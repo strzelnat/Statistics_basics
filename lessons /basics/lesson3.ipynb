{
  "nbformat": 4,
  "nbformat_minor": 0,
  "metadata": {
    "colab": {
      "provenance": [],
      "authorship_tag": "ABX9TyPZSg3iiwyTn1Hx9PRigNIN",
      "include_colab_link": true
    },
    "kernelspec": {
      "name": "python3",
      "display_name": "Python 3"
    },
    "language_info": {
      "name": "python"
    }
  },
  "cells": [
    {
      "cell_type": "markdown",
      "metadata": {
        "id": "view-in-github",
        "colab_type": "text"
      },
      "source": [
        "<a href=\"https://colab.research.google.com/github/strzelnat/Statistics_basics/blob/main/lessons%20/basics/lesson3.ipynb\" target=\"_parent\"><img src=\"https://colab.research.google.com/assets/colab-badge.svg\" alt=\"Open In Colab\"/></a>"
      ]
    },
    {
      "cell_type": "code",
      "execution_count": null,
      "metadata": {
        "id": "fyAR0NE16c3s"
      },
      "outputs": [],
      "source": [
        "import pandas as pd\n",
        "import numpy as np\n",
        "import matplotlib.pyplot as plt"
      ]
    },
    {
      "cell_type": "code",
      "source": [
        "df = pd.read_parquet('./yellow_tripdata_2021-05.parquet', use_nullable_dtypes=False, engine='auto',\n",
        "                     storage_options=None, columns=['tip_amount'])\n",
        "\n",
        "df.head()"
      ],
      "metadata": {
        "colab": {
          "base_uri": "https://localhost:8080/",
          "height": 262
        },
        "id": "rsFJFRBtB4Yd",
        "outputId": "b0147848-74e6-4e34-fbf0-6268b6c3be52"
      },
      "execution_count": null,
      "outputs": [
        {
          "output_type": "stream",
          "name": "stderr",
          "text": [
            "/tmp/ipython-input-95-2647345103.py:1: FutureWarning: The argument 'use_nullable_dtypes' is deprecated and will be removed in a future version.\n",
            "  df = pd.read_parquet('./yellow_tripdata_2021-05.parquet', use_nullable_dtypes=False, engine='auto',\n"
          ]
        },
        {
          "output_type": "execute_result",
          "data": {
            "text/plain": [
              "   tip_amount\n",
              "0        2.20\n",
              "1        0.00\n",
              "2        0.00\n",
              "3        3.06\n",
              "4        5.79"
            ],
            "text/html": [
              "\n",
              "  <div id=\"df-775beef9-8dfa-414b-a549-2941a2998f8c\" class=\"colab-df-container\">\n",
              "    <div>\n",
              "<style scoped>\n",
              "    .dataframe tbody tr th:only-of-type {\n",
              "        vertical-align: middle;\n",
              "    }\n",
              "\n",
              "    .dataframe tbody tr th {\n",
              "        vertical-align: top;\n",
              "    }\n",
              "\n",
              "    .dataframe thead th {\n",
              "        text-align: right;\n",
              "    }\n",
              "</style>\n",
              "<table border=\"1\" class=\"dataframe\">\n",
              "  <thead>\n",
              "    <tr style=\"text-align: right;\">\n",
              "      <th></th>\n",
              "      <th>tip_amount</th>\n",
              "    </tr>\n",
              "  </thead>\n",
              "  <tbody>\n",
              "    <tr>\n",
              "      <th>0</th>\n",
              "      <td>2.20</td>\n",
              "    </tr>\n",
              "    <tr>\n",
              "      <th>1</th>\n",
              "      <td>0.00</td>\n",
              "    </tr>\n",
              "    <tr>\n",
              "      <th>2</th>\n",
              "      <td>0.00</td>\n",
              "    </tr>\n",
              "    <tr>\n",
              "      <th>3</th>\n",
              "      <td>3.06</td>\n",
              "    </tr>\n",
              "    <tr>\n",
              "      <th>4</th>\n",
              "      <td>5.79</td>\n",
              "    </tr>\n",
              "  </tbody>\n",
              "</table>\n",
              "</div>\n",
              "    <div class=\"colab-df-buttons\">\n",
              "\n",
              "  <div class=\"colab-df-container\">\n",
              "    <button class=\"colab-df-convert\" onclick=\"convertToInteractive('df-775beef9-8dfa-414b-a549-2941a2998f8c')\"\n",
              "            title=\"Convert this dataframe to an interactive table.\"\n",
              "            style=\"display:none;\">\n",
              "\n",
              "  <svg xmlns=\"http://www.w3.org/2000/svg\" height=\"24px\" viewBox=\"0 -960 960 960\">\n",
              "    <path d=\"M120-120v-720h720v720H120Zm60-500h600v-160H180v160Zm220 220h160v-160H400v160Zm0 220h160v-160H400v160ZM180-400h160v-160H180v160Zm440 0h160v-160H620v160ZM180-180h160v-160H180v160Zm440 0h160v-160H620v160Z\"/>\n",
              "  </svg>\n",
              "    </button>\n",
              "\n",
              "  <style>\n",
              "    .colab-df-container {\n",
              "      display:flex;\n",
              "      gap: 12px;\n",
              "    }\n",
              "\n",
              "    .colab-df-convert {\n",
              "      background-color: #E8F0FE;\n",
              "      border: none;\n",
              "      border-radius: 50%;\n",
              "      cursor: pointer;\n",
              "      display: none;\n",
              "      fill: #1967D2;\n",
              "      height: 32px;\n",
              "      padding: 0 0 0 0;\n",
              "      width: 32px;\n",
              "    }\n",
              "\n",
              "    .colab-df-convert:hover {\n",
              "      background-color: #E2EBFA;\n",
              "      box-shadow: 0px 1px 2px rgba(60, 64, 67, 0.3), 0px 1px 3px 1px rgba(60, 64, 67, 0.15);\n",
              "      fill: #174EA6;\n",
              "    }\n",
              "\n",
              "    .colab-df-buttons div {\n",
              "      margin-bottom: 4px;\n",
              "    }\n",
              "\n",
              "    [theme=dark] .colab-df-convert {\n",
              "      background-color: #3B4455;\n",
              "      fill: #D2E3FC;\n",
              "    }\n",
              "\n",
              "    [theme=dark] .colab-df-convert:hover {\n",
              "      background-color: #434B5C;\n",
              "      box-shadow: 0px 1px 3px 1px rgba(0, 0, 0, 0.15);\n",
              "      filter: drop-shadow(0px 1px 2px rgba(0, 0, 0, 0.3));\n",
              "      fill: #FFFFFF;\n",
              "    }\n",
              "  </style>\n",
              "\n",
              "    <script>\n",
              "      const buttonEl =\n",
              "        document.querySelector('#df-775beef9-8dfa-414b-a549-2941a2998f8c button.colab-df-convert');\n",
              "      buttonEl.style.display =\n",
              "        google.colab.kernel.accessAllowed ? 'block' : 'none';\n",
              "\n",
              "      async function convertToInteractive(key) {\n",
              "        const element = document.querySelector('#df-775beef9-8dfa-414b-a549-2941a2998f8c');\n",
              "        const dataTable =\n",
              "          await google.colab.kernel.invokeFunction('convertToInteractive',\n",
              "                                                    [key], {});\n",
              "        if (!dataTable) return;\n",
              "\n",
              "        const docLinkHtml = 'Like what you see? Visit the ' +\n",
              "          '<a target=\"_blank\" href=https://colab.research.google.com/notebooks/data_table.ipynb>data table notebook</a>'\n",
              "          + ' to learn more about interactive tables.';\n",
              "        element.innerHTML = '';\n",
              "        dataTable['output_type'] = 'display_data';\n",
              "        await google.colab.output.renderOutput(dataTable, element);\n",
              "        const docLink = document.createElement('div');\n",
              "        docLink.innerHTML = docLinkHtml;\n",
              "        element.appendChild(docLink);\n",
              "      }\n",
              "    </script>\n",
              "  </div>\n",
              "\n",
              "\n",
              "    <div id=\"df-e6364aac-27d3-4b33-b474-e9162fcf1d3e\">\n",
              "      <button class=\"colab-df-quickchart\" onclick=\"quickchart('df-e6364aac-27d3-4b33-b474-e9162fcf1d3e')\"\n",
              "                title=\"Suggest charts\"\n",
              "                style=\"display:none;\">\n",
              "\n",
              "<svg xmlns=\"http://www.w3.org/2000/svg\" height=\"24px\"viewBox=\"0 0 24 24\"\n",
              "     width=\"24px\">\n",
              "    <g>\n",
              "        <path d=\"M19 3H5c-1.1 0-2 .9-2 2v14c0 1.1.9 2 2 2h14c1.1 0 2-.9 2-2V5c0-1.1-.9-2-2-2zM9 17H7v-7h2v7zm4 0h-2V7h2v10zm4 0h-2v-4h2v4z\"/>\n",
              "    </g>\n",
              "</svg>\n",
              "      </button>\n",
              "\n",
              "<style>\n",
              "  .colab-df-quickchart {\n",
              "      --bg-color: #E8F0FE;\n",
              "      --fill-color: #1967D2;\n",
              "      --hover-bg-color: #E2EBFA;\n",
              "      --hover-fill-color: #174EA6;\n",
              "      --disabled-fill-color: #AAA;\n",
              "      --disabled-bg-color: #DDD;\n",
              "  }\n",
              "\n",
              "  [theme=dark] .colab-df-quickchart {\n",
              "      --bg-color: #3B4455;\n",
              "      --fill-color: #D2E3FC;\n",
              "      --hover-bg-color: #434B5C;\n",
              "      --hover-fill-color: #FFFFFF;\n",
              "      --disabled-bg-color: #3B4455;\n",
              "      --disabled-fill-color: #666;\n",
              "  }\n",
              "\n",
              "  .colab-df-quickchart {\n",
              "    background-color: var(--bg-color);\n",
              "    border: none;\n",
              "    border-radius: 50%;\n",
              "    cursor: pointer;\n",
              "    display: none;\n",
              "    fill: var(--fill-color);\n",
              "    height: 32px;\n",
              "    padding: 0;\n",
              "    width: 32px;\n",
              "  }\n",
              "\n",
              "  .colab-df-quickchart:hover {\n",
              "    background-color: var(--hover-bg-color);\n",
              "    box-shadow: 0 1px 2px rgba(60, 64, 67, 0.3), 0 1px 3px 1px rgba(60, 64, 67, 0.15);\n",
              "    fill: var(--button-hover-fill-color);\n",
              "  }\n",
              "\n",
              "  .colab-df-quickchart-complete:disabled,\n",
              "  .colab-df-quickchart-complete:disabled:hover {\n",
              "    background-color: var(--disabled-bg-color);\n",
              "    fill: var(--disabled-fill-color);\n",
              "    box-shadow: none;\n",
              "  }\n",
              "\n",
              "  .colab-df-spinner {\n",
              "    border: 2px solid var(--fill-color);\n",
              "    border-color: transparent;\n",
              "    border-bottom-color: var(--fill-color);\n",
              "    animation:\n",
              "      spin 1s steps(1) infinite;\n",
              "  }\n",
              "\n",
              "  @keyframes spin {\n",
              "    0% {\n",
              "      border-color: transparent;\n",
              "      border-bottom-color: var(--fill-color);\n",
              "      border-left-color: var(--fill-color);\n",
              "    }\n",
              "    20% {\n",
              "      border-color: transparent;\n",
              "      border-left-color: var(--fill-color);\n",
              "      border-top-color: var(--fill-color);\n",
              "    }\n",
              "    30% {\n",
              "      border-color: transparent;\n",
              "      border-left-color: var(--fill-color);\n",
              "      border-top-color: var(--fill-color);\n",
              "      border-right-color: var(--fill-color);\n",
              "    }\n",
              "    40% {\n",
              "      border-color: transparent;\n",
              "      border-right-color: var(--fill-color);\n",
              "      border-top-color: var(--fill-color);\n",
              "    }\n",
              "    60% {\n",
              "      border-color: transparent;\n",
              "      border-right-color: var(--fill-color);\n",
              "    }\n",
              "    80% {\n",
              "      border-color: transparent;\n",
              "      border-right-color: var(--fill-color);\n",
              "      border-bottom-color: var(--fill-color);\n",
              "    }\n",
              "    90% {\n",
              "      border-color: transparent;\n",
              "      border-bottom-color: var(--fill-color);\n",
              "    }\n",
              "  }\n",
              "</style>\n",
              "\n",
              "      <script>\n",
              "        async function quickchart(key) {\n",
              "          const quickchartButtonEl =\n",
              "            document.querySelector('#' + key + ' button');\n",
              "          quickchartButtonEl.disabled = true;  // To prevent multiple clicks.\n",
              "          quickchartButtonEl.classList.add('colab-df-spinner');\n",
              "          try {\n",
              "            const charts = await google.colab.kernel.invokeFunction(\n",
              "                'suggestCharts', [key], {});\n",
              "          } catch (error) {\n",
              "            console.error('Error during call to suggestCharts:', error);\n",
              "          }\n",
              "          quickchartButtonEl.classList.remove('colab-df-spinner');\n",
              "          quickchartButtonEl.classList.add('colab-df-quickchart-complete');\n",
              "        }\n",
              "        (() => {\n",
              "          let quickchartButtonEl =\n",
              "            document.querySelector('#df-e6364aac-27d3-4b33-b474-e9162fcf1d3e button');\n",
              "          quickchartButtonEl.style.display =\n",
              "            google.colab.kernel.accessAllowed ? 'block' : 'none';\n",
              "        })();\n",
              "      </script>\n",
              "    </div>\n",
              "\n",
              "    </div>\n",
              "  </div>\n"
            ],
            "application/vnd.google.colaboratory.intrinsic+json": {
              "type": "dataframe",
              "variable_name": "df"
            }
          },
          "metadata": {},
          "execution_count": 95
        }
      ]
    },
    {
      "cell_type": "code",
      "source": [
        "df.sum().sum()"
      ],
      "metadata": {
        "colab": {
          "base_uri": "https://localhost:8080/"
        },
        "id": "b7rvMmugCeFN",
        "outputId": "73e8f5f0-44e2-48fe-eb0f-a77f5a5a2a2d"
      },
      "execution_count": null,
      "outputs": [
        {
          "output_type": "execute_result",
          "data": {
            "text/plain": [
              "np.float64(5523836.039999996)"
            ]
          },
          "metadata": {},
          "execution_count": 96
        }
      ]
    },
    {
      "cell_type": "code",
      "source": [
        "#naive way to reduce outliers\n",
        "df.query(\"tip_amount > 0 & tip_amount <= 25\", inplace=True)\n",
        "df.sum().sum()"
      ],
      "metadata": {
        "colab": {
          "base_uri": "https://localhost:8080/"
        },
        "id": "toF-5eRuCSs0",
        "outputId": "2f9da41d-352b-4ac0-db77-ec12bcbf006e"
      },
      "execution_count": null,
      "outputs": [
        {
          "output_type": "execute_result",
          "data": {
            "text/plain": [
              "np.float64(5475099.320000002)"
            ]
          },
          "metadata": {},
          "execution_count": 97
        }
      ]
    },
    {
      "cell_type": "code",
      "source": [
        "#experiment\n",
        "\n",
        "df_mean = df['tip_amount'].mean()\n",
        "df_mode = df['tip_amount'].mode()\n",
        "df_median = df['tip_amount'].median()\n",
        "df_skew = df['tip_amount'].skew()\n",
        "\n",
        "means = []\n",
        "\n",
        "print(f'--- Mean = {df_mean} ---')\n",
        "\n",
        "for i in range(1,101,1):\n",
        "  probe = df['tip_amount'].sample(frac=i/100)\n",
        "  m = probe.mean()\n",
        "  means.append(m)\n",
        "  print(f'{i}% -- mean = {m}')"
      ],
      "metadata": {
        "colab": {
          "base_uri": "https://localhost:8080/"
        },
        "id": "B1hJjUdkCoDU",
        "outputId": "d09eeebc-96fc-49a6-f7d8-f916c3d461a2"
      },
      "execution_count": null,
      "outputs": [
        {
          "output_type": "stream",
          "name": "stdout",
          "text": [
            "--- Mean = 3.0292011463727717 ---\n",
            "1% -- mean = 3.0554813544317807\n",
            "2% -- mean = 3.0496973636891758\n",
            "3% -- mean = 3.044372314331557\n",
            "4% -- mean = 3.0289724473706054\n",
            "5% -- mean = 3.0366697649714505\n",
            "6% -- mean = 3.027926433432307\n",
            "7% -- mean = 3.0299637214375483\n",
            "8% -- mean = 3.0292804730454024\n",
            "9% -- mean = 3.0228545521608163\n",
            "10% -- mean = 3.0332452529544542\n",
            "11% -- mean = 3.0237091712018027\n",
            "12% -- mean = 3.03183039563287\n",
            "13% -- mean = 3.029519890027111\n",
            "14% -- mean = 3.027803842840319\n",
            "15% -- mean = 3.0341897564142295\n",
            "16% -- mean = 3.027795532348975\n",
            "17% -- mean = 3.028795176801784\n",
            "18% -- mean = 3.03132046880331\n",
            "19% -- mean = 3.037845574146656\n",
            "20% -- mean = 3.027512835834108\n",
            "21% -- mean = 3.0296667738077043\n",
            "22% -- mean = 3.0293265968710164\n",
            "23% -- mean = 3.030807291604023\n",
            "24% -- mean = 3.0344828556016092\n",
            "25% -- mean = 3.033027951135307\n",
            "26% -- mean = 3.033790425889593\n",
            "27% -- mean = 3.030225917964627\n",
            "28% -- mean = 3.025535179012137\n",
            "29% -- mean = 3.0313751578722448\n",
            "30% -- mean = 3.0278274613080747\n",
            "31% -- mean = 3.0314037508075953\n",
            "32% -- mean = 3.0307757343342883\n",
            "33% -- mean = 3.030042098733349\n",
            "34% -- mean = 3.031237352122761\n",
            "35% -- mean = 3.0296917028662476\n",
            "36% -- mean = 3.0273571105831145\n",
            "37% -- mean = 3.027896428128173\n",
            "38% -- mean = 3.0319590813989548\n",
            "39% -- mean = 3.0307551262444994\n",
            "40% -- mean = 3.0266694883370953\n",
            "41% -- mean = 3.0327336616962426\n",
            "42% -- mean = 3.029148756792359\n",
            "43% -- mean = 3.028052635168085\n",
            "44% -- mean = 3.0294692521068196\n",
            "45% -- mean = 3.029548483551937\n",
            "46% -- mean = 3.025961364986733\n",
            "47% -- mean = 3.027831599169862\n",
            "48% -- mean = 3.0286240319236124\n",
            "49% -- mean = 3.0296424643706397\n",
            "50% -- mean = 3.03194238259638\n",
            "51% -- mean = 3.0273404361495095\n",
            "52% -- mean = 3.026879788566279\n",
            "53% -- mean = 3.029110489872571\n",
            "54% -- mean = 3.029813702206313\n",
            "55% -- mean = 3.029760002092363\n",
            "56% -- mean = 3.025966620099865\n",
            "57% -- mean = 3.0283378452226217\n",
            "58% -- mean = 3.029282839604508\n",
            "59% -- mean = 3.031162210823432\n",
            "60% -- mean = 3.0279425043154946\n",
            "61% -- mean = 3.0294697597724523\n",
            "62% -- mean = 3.0281788628188324\n",
            "63% -- mean = 3.0269032842212122\n",
            "64% -- mean = 3.027475790179828\n",
            "65% -- mean = 3.02804695293641\n",
            "66% -- mean = 3.02798603415178\n",
            "67% -- mean = 3.029248372192883\n",
            "68% -- mean = 3.03165099478544\n",
            "69% -- mean = 3.0310585791101836\n",
            "70% -- mean = 3.0297090517922736\n",
            "71% -- mean = 3.0284727986522055\n",
            "72% -- mean = 3.0312295012052823\n",
            "73% -- mean = 3.029456758254126\n",
            "74% -- mean = 3.0297131825950707\n",
            "75% -- mean = 3.030487983003586\n",
            "76% -- mean = 3.031209780628892\n",
            "77% -- mean = 3.0295468083225954\n",
            "78% -- mean = 3.0288824183236933\n",
            "79% -- mean = 3.0292392067109364\n",
            "80% -- mean = 3.0284865403554204\n",
            "81% -- mean = 3.0287038686471415\n",
            "82% -- mean = 3.0291897245869204\n",
            "83% -- mean = 3.028637585615013\n",
            "84% -- mean = 3.030694793347605\n",
            "85% -- mean = 3.027860490365314\n",
            "86% -- mean = 3.029590497414434\n",
            "87% -- mean = 3.030012089237781\n",
            "88% -- mean = 3.0300140329081735\n",
            "89% -- mean = 3.0286379646678956\n",
            "90% -- mean = 3.0292743880848034\n",
            "91% -- mean = 3.0290699976288473\n",
            "92% -- mean = 3.0290581743938865\n",
            "93% -- mean = 3.0297365488759427\n",
            "94% -- mean = 3.029668468517253\n",
            "95% -- mean = 3.0298260348454464\n",
            "96% -- mean = 3.0289741704137194\n",
            "97% -- mean = 3.028930024064334\n",
            "98% -- mean = 3.02874811648679\n",
            "99% -- mean = 3.028998036175942\n",
            "100% -- mean = 3.0292011463727686\n"
          ]
        }
      ]
    },
    {
      "cell_type": "code",
      "source": [
        "df.plot.hist(column = 'tip_amount', bins = 50)\n",
        "plt.axvline(df_mean, color = 'red', lw = 0.9, label = 'Mean')\n",
        "plt.legend()"
      ],
      "metadata": {
        "colab": {
          "base_uri": "https://localhost:8080/",
          "height": 448
        },
        "id": "f8qGdusaC8M_",
        "outputId": "5abf80fa-fe0a-47c8-b66f-53fff3aeae96"
      },
      "execution_count": null,
      "outputs": [
        {
          "output_type": "execute_result",
          "data": {
            "text/plain": [
              "<matplotlib.legend.Legend at 0x7afa11010550>"
            ]
          },
          "metadata": {},
          "execution_count": 99
        },
        {
          "output_type": "display_data",
          "data": {
            "text/plain": [
              "<Figure size 640x480 with 1 Axes>"
            ],
            "image/png": "[encoded data removed]"
          },
          "metadata": {}
        }
      ]
    },
    {
      "cell_type": "code",
      "source": [
        "plt.plot(means)\n",
        "plt.hlines(xmin = 0, xmax = 100, color = 'red', y = df_mean)"
      ],
      "metadata": {
        "colab": {
          "base_uri": "https://localhost:8080/",
          "height": 448
        },
        "id": "wfpkuoBwHyNt",
        "outputId": "24d5a28e-57e5-439d-9ce4-7f8a9c879638"
      },
      "execution_count": null,
      "outputs": [
        {
          "output_type": "execute_result",
          "data": {
            "text/plain": [
              "<matplotlib.collections.LineCollection at 0x7afa10ee9550>"
            ]
          },
          "metadata": {},
          "execution_count": 100
        },
        {
          "output_type": "display_data",
          "data": {
            "text/plain": [
              "<Figure size 640x480 with 1 Axes>"
            ],
            "image/png": "[encoded data removed]"
          },
          "metadata": {}
        }
      ]
    },
    {
      "cell_type": "code",
      "source": [
        "\n",
        "medians = []\n",
        "\n",
        "print(f'--- Medians = {df_median} ---')\n",
        "\n",
        "for i in range(1,101,1):\n",
        "  probe = df['tip_amount'].sample(frac=i/100)\n",
        "  m = probe.median()\n",
        "  medians.append(m)"
      ],
      "metadata": {
        "colab": {
          "base_uri": "https://localhost:8080/"
        },
        "id": "Zrwwo-F8FMeH",
        "outputId": "dfe97013-3605-4bdf-a382-cf42e9b2148f"
      },
      "execution_count": null,
      "outputs": [
        {
          "output_type": "stream",
          "name": "stdout",
          "text": [
            "--- Medians = 2.45 ---\n"
          ]
        }
      ]
    },
    {
      "cell_type": "code",
      "source": [
        "df.plot.hist(column = 'tip_amount', bins = 50)\n",
        "plt.axvline(df_median, color = 'red', lw = 0.9, label = 'Median')\n",
        "plt.legend()"
      ],
      "metadata": {
        "colab": {
          "base_uri": "https://localhost:8080/",
          "height": 448
        },
        "id": "gsWCg1OyHhng",
        "outputId": "4878f58b-74da-4d2d-9f85-f783a687a7c9"
      },
      "execution_count": null,
      "outputs": [
        {
          "output_type": "execute_result",
          "data": {
            "text/plain": [
              "<matplotlib.legend.Legend at 0x7afa1bd13e90>"
            ]
          },
          "metadata": {},
          "execution_count": 102
        },
        {
          "output_type": "display_data",
          "data": {
            "text/plain": [
              "<Figure size 640x480 with 1 Axes>"
            ],
            "image/png": "[encoded data removed]"
          },
          "metadata": {}
        }
      ]
    },
    {
      "cell_type": "code",
      "source": [
        "print('Mean:', df_mean)\n",
        "print('Median', df_median)\n",
        "print('Mode:', df_mode)\n",
        "print('Skew:', df_skew)"
      ],
      "metadata": {
        "colab": {
          "base_uri": "https://localhost:8080/"
        },
        "id": "13lVODwTIhLt",
        "outputId": "800b30bf-c54e-4eed-d7fa-645c301042be"
      },
      "execution_count": null,
      "outputs": [
        {
          "output_type": "stream",
          "name": "stdout",
          "text": [
            "Mean: 3.0292011463727717\n",
            "Median 2.45\n",
            "Mode: 0    1.0\n",
            "Name: tip_amount, dtype: float64\n",
            "Skew: 3.0672566637706966\n"
          ]
        }
      ]
    },
    {
      "cell_type": "code",
      "source": [
        "df.plot.hist(column = 'tip_amount', bins = 50)\n",
        "plt.axvline(df_mean, color = 'red')\n",
        "plt.axvline(df_mode.loc[0], color = 'green')\n",
        "plt.axvline(df_median, color = 'blue')"
      ],
      "metadata": {
        "colab": {
          "base_uri": "https://localhost:8080/",
          "height": 448
        },
        "id": "8PASdq_1LB3h",
        "outputId": "3eef12ce-e513-451e-e60b-1ff2186342fd"
      },
      "execution_count": null,
      "outputs": [
        {
          "output_type": "execute_result",
          "data": {
            "text/plain": [
              "<matplotlib.lines.Line2D at 0x7afa10cc4690>"
            ]
          },
          "metadata": {},
          "execution_count": 104
        },
        {
          "output_type": "display_data",
          "data": {
            "text/plain": [
              "<Figure size 640x480 with 1 Axes>"
            ],
            "image/png": "[encoded data removed]"
          },
          "metadata": {}
        }
      ]
    },
    {
      "cell_type": "code",
      "source": [
        "!pip install scipy"
      ],
      "metadata": {
        "colab": {
          "base_uri": "https://localhost:8080/"
        },
        "id": "CiPE9lFOPk36",
        "outputId": "0492d82c-53f9-4a74-86f4-a6fb1ce9fad4"
      },
      "execution_count": null,
      "outputs": [
        {
          "output_type": "stream",
          "name": "stdout",
          "text": [
            "Requirement already satisfied: scipy in /usr/local/lib/python3.11/dist-packages (1.15.3)\n",
            "Requirement already satisfied: numpy<2.5,>=1.23.5 in /usr/local/lib/python3.11/dist-packages (from scipy) (2.0.2)\n"
          ]
        }
      ]
    },
    {
      "cell_type": "code",
      "source": [
        "from scipy import stats\n",
        "#truncated mean\n",
        "tr_mean = stats.trim_mean(df['tip_amount'], 0.1)\n",
        "print(f'trunacted mean = {tr_mean:.2f}')"
      ],
      "metadata": {
        "colab": {
          "base_uri": "https://localhost:8080/"
        },
        "id": "Yj8p887TPmVL",
        "outputId": "6d54cbcc-bb42-4d30-8236-365b0d4cc96a"
      },
      "execution_count": null,
      "outputs": [
        {
          "output_type": "stream",
          "name": "stdout",
          "text": [
            "trunacted mean = 2.61\n"
          ]
        }
      ]
    },
    {
      "cell_type": "code",
      "source": [
        "taxi = pd.read_parquet('./yellow_tripdata_2021-05.parquet',\n",
        " engine='auto', columns=['tip_amount','passenger_count'], storage_options=None,\n",
        "use_nullable_dtypes=False)\n",
        "taxi.query('tip_amount > 0 and tip_amount <= 20 and passenger_count > 0',\n",
        "inplace=True)\n",
        "print(taxi.describe())"
      ],
      "metadata": {
        "colab": {
          "base_uri": "https://localhost:8080/"
        },
        "id": "2cbYzQ9MTCqe",
        "outputId": "4a68a16a-8e69-4dde-89bc-cd8cc8310104"
      },
      "execution_count": null,
      "outputs": [
        {
          "output_type": "stream",
          "name": "stderr",
          "text": [
            "/tmp/ipython-input-111-1917055516.py:1: FutureWarning: The argument 'use_nullable_dtypes' is deprecated and will be removed in a future version.\n",
            "  taxi = pd.read_parquet('./yellow_tripdata_2021-05.parquet',\n"
          ]
        },
        {
          "output_type": "stream",
          "name": "stdout",
          "text": [
            "         tip_amount  passenger_count\n",
            "count  1.712030e+06     1.712030e+06\n",
            "mean   3.000728e+00     1.452504e+00\n",
            "std    2.219205e+00     1.016095e+00\n",
            "min    1.000000e-02     1.000000e+00\n",
            "25%    1.860000e+00     1.000000e+00\n",
            "50%    2.450000e+00     1.000000e+00\n",
            "75%    3.360000e+00     1.000000e+00\n",
            "max    2.000000e+01     9.000000e+00\n"
          ]
        }
      ]
    },
    {
      "cell_type": "code",
      "source": [
        "taxi.head()"
      ],
      "metadata": {
        "colab": {
          "base_uri": "https://localhost:8080/",
          "height": 206
        },
        "id": "55DrDDatVTGD",
        "outputId": "5ba9d1c8-9495-4284-ebbb-8dfbe2898d92"
      },
      "execution_count": null,
      "outputs": [
        {
          "output_type": "execute_result",
          "data": {
            "text/plain": [
              "    tip_amount  passenger_count\n",
              "0         2.20              2.0\n",
              "3         3.06              1.0\n",
              "4         5.79              1.0\n",
              "7         3.35              1.0\n",
              "11        1.50              2.0"
            ],
            "text/html": [
              "\n",
              "  <div id=\"df-4ef84d5a-1aef-4910-b6d8-20f17c0adfb7\" class=\"colab-df-container\">\n",
              "    <div>\n",
              "<style scoped>\n",
              "    .dataframe tbody tr th:only-of-type {\n",
              "        vertical-align: middle;\n",
              "    }\n",
              "\n",
              "    .dataframe tbody tr th {\n",
              "        vertical-align: top;\n",
              "    }\n",
              "\n",
              "    .dataframe thead th {\n",
              "        text-align: right;\n",
              "    }\n",
              "</style>\n",
              "<table border=\"1\" class=\"dataframe\">\n",
              "  <thead>\n",
              "    <tr style=\"text-align: right;\">\n",
              "      <th></th>\n",
              "      <th>tip_amount</th>\n",
              "      <th>passenger_count</th>\n",
              "    </tr>\n",
              "  </thead>\n",
              "  <tbody>\n",
              "    <tr>\n",
              "      <th>0</th>\n",
              "      <td>2.20</td>\n",
              "      <td>2.0</td>\n",
              "    </tr>\n",
              "    <tr>\n",
              "      <th>3</th>\n",
              "      <td>3.06</td>\n",
              "      <td>1.0</td>\n",
              "    </tr>\n",
              "    <tr>\n",
              "      <th>4</th>\n",
              "      <td>5.79</td>\n",
              "      <td>1.0</td>\n",
              "    </tr>\n",
              "    <tr>\n",
              "      <th>7</th>\n",
              "      <td>3.35</td>\n",
              "      <td>1.0</td>\n",
              "    </tr>\n",
              "    <tr>\n",
              "      <th>11</th>\n",
              "      <td>1.50</td>\n",
              "      <td>2.0</td>\n",
              "    </tr>\n",
              "  </tbody>\n",
              "</table>\n",
              "</div>\n",
              "    <div class=\"colab-df-buttons\">\n",
              "\n",
              "  <div class=\"colab-df-container\">\n",
              "    <button class=\"colab-df-convert\" onclick=\"convertToInteractive('df-4ef84d5a-1aef-4910-b6d8-20f17c0adfb7')\"\n",
              "            title=\"Convert this dataframe to an interactive table.\"\n",
              "            style=\"display:none;\">\n",
              "\n",
              "  <svg xmlns=\"http://www.w3.org/2000/svg\" height=\"24px\" viewBox=\"0 -960 960 960\">\n",
              "    <path d=\"M120-120v-720h720v720H120Zm60-500h600v-160H180v160Zm220 220h160v-160H400v160Zm0 220h160v-160H400v160ZM180-400h160v-160H180v160Zm440 0h160v-160H620v160ZM180-180h160v-160H180v160Zm440 0h160v-160H620v160Z\"/>\n",
              "  </svg>\n",
              "    </button>\n",
              "\n",
              "  <style>\n",
              "    .colab-df-container {\n",
              "      display:flex;\n",
              "      gap: 12px;\n",
              "    }\n",
              "\n",
              "    .colab-df-convert {\n",
              "      background-color: #E8F0FE;\n",
              "      border: none;\n",
              "      border-radius: 50%;\n",
              "      cursor: pointer;\n",
              "      display: none;\n",
              "      fill: #1967D2;\n",
              "      height: 32px;\n",
              "      padding: 0 0 0 0;\n",
              "      width: 32px;\n",
              "    }\n",
              "\n",
              "    .colab-df-convert:hover {\n",
              "      background-color: #E2EBFA;\n",
              "      box-shadow: 0px 1px 2px rgba(60, 64, 67, 0.3), 0px 1px 3px 1px rgba(60, 64, 67, 0.15);\n",
              "      fill: #174EA6;\n",
              "    }\n",
              "\n",
              "    .colab-df-buttons div {\n",
              "      margin-bottom: 4px;\n",
              "    }\n",
              "\n",
              "    [theme=dark] .colab-df-convert {\n",
              "      background-color: #3B4455;\n",
              "      fill: #D2E3FC;\n",
              "    }\n",
              "\n",
              "    [theme=dark] .colab-df-convert:hover {\n",
              "      background-color: #434B5C;\n",
              "      box-shadow: 0px 1px 3px 1px rgba(0, 0, 0, 0.15);\n",
              "      filter: drop-shadow(0px 1px 2px rgba(0, 0, 0, 0.3));\n",
              "      fill: #FFFFFF;\n",
              "    }\n",
              "  </style>\n",
              "\n",
              "    <script>\n",
              "      const buttonEl =\n",
              "        document.querySelector('#df-4ef84d5a-1aef-4910-b6d8-20f17c0adfb7 button.colab-df-convert');\n",
              "      buttonEl.style.display =\n",
              "        google.colab.kernel.accessAllowed ? 'block' : 'none';\n",
              "\n",
              "      async function convertToInteractive(key) {\n",
              "        const element = document.querySelector('#df-4ef84d5a-1aef-4910-b6d8-20f17c0adfb7');\n",
              "        const dataTable =\n",
              "          await google.colab.kernel.invokeFunction('convertToInteractive',\n",
              "                                                    [key], {});\n",
              "        if (!dataTable) return;\n",
              "\n",
              "        const docLinkHtml = 'Like what you see? Visit the ' +\n",
              "          '<a target=\"_blank\" href=https://colab.research.google.com/notebooks/data_table.ipynb>data table notebook</a>'\n",
              "          + ' to learn more about interactive tables.';\n",
              "        element.innerHTML = '';\n",
              "        dataTable['output_type'] = 'display_data';\n",
              "        await google.colab.output.renderOutput(dataTable, element);\n",
              "        const docLink = document.createElement('div');\n",
              "        docLink.innerHTML = docLinkHtml;\n",
              "        element.appendChild(docLink);\n",
              "      }\n",
              "    </script>\n",
              "  </div>\n",
              "\n",
              "\n",
              "    <div id=\"df-83a8b38c-1fe0-4812-91a7-58d5e9c1338a\">\n",
              "      <button class=\"colab-df-quickchart\" onclick=\"quickchart('df-83a8b38c-1fe0-4812-91a7-58d5e9c1338a')\"\n",
              "                title=\"Suggest charts\"\n",
              "                style=\"display:none;\">\n",
              "\n",
              "<svg xmlns=\"http://www.w3.org/2000/svg\" height=\"24px\"viewBox=\"0 0 24 24\"\n",
              "     width=\"24px\">\n",
              "    <g>\n",
              "        <path d=\"M19 3H5c-1.1 0-2 .9-2 2v14c0 1.1.9 2 2 2h14c1.1 0 2-.9 2-2V5c0-1.1-.9-2-2-2zM9 17H7v-7h2v7zm4 0h-2V7h2v10zm4 0h-2v-4h2v4z\"/>\n",
              "    </g>\n",
              "</svg>\n",
              "      </button>\n",
              "\n",
              "<style>\n",
              "  .colab-df-quickchart {\n",
              "      --bg-color: #E8F0FE;\n",
              "      --fill-color: #1967D2;\n",
              "      --hover-bg-color: #E2EBFA;\n",
              "      --hover-fill-color: #174EA6;\n",
              "      --disabled-fill-color: #AAA;\n",
              "      --disabled-bg-color: #DDD;\n",
              "  }\n",
              "\n",
              "  [theme=dark] .colab-df-quickchart {\n",
              "      --bg-color: #3B4455;\n",
              "      --fill-color: #D2E3FC;\n",
              "      --hover-bg-color: #434B5C;\n",
              "      --hover-fill-color: #FFFFFF;\n",
              "      --disabled-bg-color: #3B4455;\n",
              "      --disabled-fill-color: #666;\n",
              "  }\n",
              "\n",
              "  .colab-df-quickchart {\n",
              "    background-color: var(--bg-color);\n",
              "    border: none;\n",
              "    border-radius: 50%;\n",
              "    cursor: pointer;\n",
              "    display: none;\n",
              "    fill: var(--fill-color);\n",
              "    height: 32px;\n",
              "    padding: 0;\n",
              "    width: 32px;\n",
              "  }\n",
              "\n",
              "  .colab-df-quickchart:hover {\n",
              "    background-color: var(--hover-bg-color);\n",
              "    box-shadow: 0 1px 2px rgba(60, 64, 67, 0.3), 0 1px 3px 1px rgba(60, 64, 67, 0.15);\n",
              "    fill: var(--button-hover-fill-color);\n",
              "  }\n",
              "\n",
              "  .colab-df-quickchart-complete:disabled,\n",
              "  .colab-df-quickchart-complete:disabled:hover {\n",
              "    background-color: var(--disabled-bg-color);\n",
              "    fill: var(--disabled-fill-color);\n",
              "    box-shadow: none;\n",
              "  }\n",
              "\n",
              "  .colab-df-spinner {\n",
              "    border: 2px solid var(--fill-color);\n",
              "    border-color: transparent;\n",
              "    border-bottom-color: var(--fill-color);\n",
              "    animation:\n",
              "      spin 1s steps(1) infinite;\n",
              "  }\n",
              "\n",
              "  @keyframes spin {\n",
              "    0% {\n",
              "      border-color: transparent;\n",
              "      border-bottom-color: var(--fill-color);\n",
              "      border-left-color: var(--fill-color);\n",
              "    }\n",
              "    20% {\n",
              "      border-color: transparent;\n",
              "      border-left-color: var(--fill-color);\n",
              "      border-top-color: var(--fill-color);\n",
              "    }\n",
              "    30% {\n",
              "      border-color: transparent;\n",
              "      border-left-color: var(--fill-color);\n",
              "      border-top-color: var(--fill-color);\n",
              "      border-right-color: var(--fill-color);\n",
              "    }\n",
              "    40% {\n",
              "      border-color: transparent;\n",
              "      border-right-color: var(--fill-color);\n",
              "      border-top-color: var(--fill-color);\n",
              "    }\n",
              "    60% {\n",
              "      border-color: transparent;\n",
              "      border-right-color: var(--fill-color);\n",
              "    }\n",
              "    80% {\n",
              "      border-color: transparent;\n",
              "      border-right-color: var(--fill-color);\n",
              "      border-bottom-color: var(--fill-color);\n",
              "    }\n",
              "    90% {\n",
              "      border-color: transparent;\n",
              "      border-bottom-color: var(--fill-color);\n",
              "    }\n",
              "  }\n",
              "</style>\n",
              "\n",
              "      <script>\n",
              "        async function quickchart(key) {\n",
              "          const quickchartButtonEl =\n",
              "            document.querySelector('#' + key + ' button');\n",
              "          quickchartButtonEl.disabled = true;  // To prevent multiple clicks.\n",
              "          quickchartButtonEl.classList.add('colab-df-spinner');\n",
              "          try {\n",
              "            const charts = await google.colab.kernel.invokeFunction(\n",
              "                'suggestCharts', [key], {});\n",
              "          } catch (error) {\n",
              "            console.error('Error during call to suggestCharts:', error);\n",
              "          }\n",
              "          quickchartButtonEl.classList.remove('colab-df-spinner');\n",
              "          quickchartButtonEl.classList.add('colab-df-quickchart-complete');\n",
              "        }\n",
              "        (() => {\n",
              "          let quickchartButtonEl =\n",
              "            document.querySelector('#df-83a8b38c-1fe0-4812-91a7-58d5e9c1338a button');\n",
              "          quickchartButtonEl.style.display =\n",
              "            google.colab.kernel.accessAllowed ? 'block' : 'none';\n",
              "        })();\n",
              "      </script>\n",
              "    </div>\n",
              "\n",
              "    </div>\n",
              "  </div>\n"
            ],
            "application/vnd.google.colaboratory.intrinsic+json": {
              "type": "dataframe",
              "variable_name": "taxi"
            }
          },
          "metadata": {},
          "execution_count": 112
        }
      ]
    },
    {
      "cell_type": "code",
      "source": [
        "from scipy import stats\n",
        "trim_mean = stats.trim_mean(taxi['tip_amount'], 0.15) #30% truncated\n",
        "weight_mean = np.average(taxi['tip_amount'], weights=taxi['passenger_count'])\n",
        "mean = taxi['tip_amount'].mean()\n",
        "print(f'Truncated mean = {trim_mean}, weighted average = {weight_mean}')\n",
        "print(f'Truncated mean = {trim_mean:.2f}, weighted average = {weight_mean:.2f}')"
      ],
      "metadata": {
        "colab": {
          "base_uri": "https://localhost:8080/"
        },
        "id": "IeaqFYazVatE",
        "outputId": "107bdee7-0f87-40f3-f336-27ef6f2b69f3"
      },
      "execution_count": null,
      "outputs": [
        {
          "output_type": "stream",
          "name": "stdout",
          "text": [
            "Truncated mean = 2.539626992828903, weighted average = 3.016492305155766\n",
            "Truncated mean = 2.54, weighted average = 3.02\n"
          ]
        }
      ]
    },
    {
      "cell_type": "code",
      "source": [
        "taxi.plot.hist(column = 'tip_amount', bins = 50)\n",
        "plt.axvline(x=trim_mean, color='red', linestyle='--', label='Trimmed Mean')\n",
        "plt.axvline(x=weight_mean, color='yellow', label='Weighted Mean')\n",
        "plt.axvline(x=mean, color='green', linestyle='--', label='Mean')\n",
        "plt.legend()\n",
        "\n",
        "# Mean = weightened mean"
      ],
      "metadata": {
        "colab": {
          "base_uri": "https://localhost:8080/",
          "height": 448
        },
        "id": "VPg4haxwWFt4",
        "outputId": "db62e7e0-a359-4e96-dbfc-3e722dbe63fb"
      },
      "execution_count": null,
      "outputs": [
        {
          "output_type": "execute_result",
          "data": {
            "text/plain": [
              "<matplotlib.legend.Legend at 0x7afa26e71050>"
            ]
          },
          "metadata": {},
          "execution_count": 135
        },
        {
          "output_type": "display_data",
          "data": {
            "text/plain": [
              "<Figure size 640x480 with 1 Axes>"
            ],
            "image/png": "[encoded data removed]"
          },
          "metadata": {}
        }
      ]
    }
  ]
}
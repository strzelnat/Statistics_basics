{
  "nbformat": 4,
  "nbformat_minor": 0,
  "metadata": {
    "colab": {
      "provenance": [],
      "authorship_tag": "ABX9TyPL8Vt2YHV4DIALhMsye8bj",
      "include_colab_link": true
    },
    "kernelspec": {
      "name": "python3",
      "display_name": "Python 3"
    },
    "language_info": {
      "name": "python"
    }
  },
  "cells": [
    {
      "cell_type": "markdown",
      "metadata": {
        "id": "view-in-github",
        "colab_type": "text"
      },
      "source": [
        "<a href=\"https://colab.research.google.com/github/strzelnat/Statistics_basics/blob/main/lessons/basics/lesson9.ipynb\" target=\"_parent\"><img src=\"https://colab.research.google.com/assets/colab-badge.svg\" alt=\"Open In Colab\"/></a>"
      ]
    },
    {
      "cell_type": "code",
      "execution_count": 28,
      "metadata": {
        "colab": {
          "base_uri": "https://localhost:8080/"
        },
        "id": "bacKbQmvnsv1",
        "outputId": "1d8e95df-5cb3-4c97-9303-2c03a9d5ce02"
      },
      "outputs": [
        {
          "output_type": "stream",
          "name": "stdout",
          "text": [
            "Requirement already satisfied: scipy in /usr/local/lib/python3.11/dist-packages (1.15.3)\n",
            "Requirement already satisfied: numpy<2.5,>=1.23.5 in /usr/local/lib/python3.11/dist-packages (from scipy) (2.0.2)\n"
          ]
        }
      ],
      "source": [
        "!pip install scipy"
      ]
    },
    {
      "cell_type": "code",
      "source": [
        "import scipy.stats as stats\n",
        "import math\n",
        "import numpy as np\n",
        "import matplotlib.pyplot as plt"
      ],
      "metadata": {
        "id": "jTK54Mx9xGUO"
      },
      "execution_count": 45,
      "outputs": []
    },
    {
      "cell_type": "code",
      "source": [
        "population = stats.norm.rvs(size = 10000, loc = 45, scale = 5)\n",
        "population_mean = population.mean()\n",
        "population_std = population.std()\n",
        "\n",
        "sample_size = 50\n",
        "sample = np.random.choice(population, size = sample_size)\n",
        "sample_mean = sample.mean()\n",
        "sample_std = sample.std()\n",
        "\n",
        "# calculate confidence interval for 80% confidence level with Z-distribution -> 100% - ((100% - 80%) / 2)\n",
        "z_crtical = stats.norm.ppf(0.9)\n",
        "margin_of_error = z_crtical * (population_std / math.sqrt(sample_size))\n",
        "confidence_interval = (sample_mean - margin_of_error, sample_mean + margin_of_error)\n",
        "print(f\"80%-Confidence interval Z (basing on one sample): {confidence_interval}\")"
      ],
      "metadata": {
        "colab": {
          "base_uri": "https://localhost:8080/"
        },
        "id": "XbXHtz5mxOyY",
        "outputId": "91470eee-f37b-4b61-9f4f-1cf5fa161bc6"
      },
      "execution_count": 30,
      "outputs": [
        {
          "output_type": "stream",
          "name": "stdout",
          "text": [
            "80%-Confidence interval Z (basing on one sample): (np.float64(44.341476247795505), np.float64(46.137909370160706))\n"
          ]
        }
      ]
    },
    {
      "cell_type": "code",
      "source": [
        "population = stats.norm.rvs(size=100000, loc = 40, scale = 8)\n",
        "population_mean = population.mean()\n",
        "population_std = population.std()\n",
        "\n",
        "\n",
        "# calculate confidence interval for 90% confidence level with Z-distribution -> 100% - ((100% - 90%) / 2)\n",
        "sample_size = 30\n",
        "sample = np.random.choice(population, size = sample_size)\n",
        "sample_mean = sample.mean()\n",
        "sample_std = sample.std()\n",
        "\n",
        "z_crtical = stats.norm.ppf(0.95)\n",
        "margin_of_error = z_crtical * (population_std / math.sqrt(sample_size))\n",
        "confidence_interval = (sample_mean - margin_of_error, sample_mean + margin_of_error)\n",
        "print(f\"90%-Confidence interval Z (basing on one sample): {confidence_interval}\")"
      ],
      "metadata": {
        "colab": {
          "base_uri": "https://localhost:8080/"
        },
        "id": "8iXgkM1-yx1D",
        "outputId": "f09b7548-3d54-4a1a-b81c-f0cf7a84c43d"
      },
      "execution_count": 31,
      "outputs": [
        {
          "output_type": "stream",
          "name": "stdout",
          "text": [
            "90%-Confidence interval Z (basing on one sample): (np.float64(39.38320336816761), np.float64(44.20635115417293))\n"
          ]
        }
      ]
    },
    {
      "cell_type": "code",
      "source": [
        "population = stats.norm.rvs(size=100000, loc = 40, scale = 8)\n",
        "population_mean = population.mean()\n",
        "population_std = population.std()\n",
        "\n",
        "\n",
        "# calculate confidence interval for 95% confidence level with Z-distribution -> 100% - ((100% - 90%) / 2)\n",
        "sample_size = 30\n",
        "sample = np.random.choice(population, size = sample_size)\n",
        "sample_mean = sample.mean()\n",
        "sample_std = sample.std()\n",
        "\n",
        "z_crtical = stats.norm.ppf(0.975)\n",
        "margin_of_error = z_crtical * (population_std / math.sqrt(sample_size))\n",
        "confidence_interval = (sample_mean - margin_of_error, sample_mean + margin_of_error)\n",
        "print(f\"95%-Confidence interval Z (basing on one sample): {confidence_interval}\")"
      ],
      "metadata": {
        "colab": {
          "base_uri": "https://localhost:8080/"
        },
        "id": "kA4NEux7z0-Q",
        "outputId": "8095c819-aee8-40ba-ae0f-44825c9a2a1a"
      },
      "execution_count": 32,
      "outputs": [
        {
          "output_type": "stream",
          "name": "stdout",
          "text": [
            "95%-Confidence interval Z (basing on one sample): (np.float64(37.0959543736297), np.float64(42.80759583275684))\n"
          ]
        }
      ]
    },
    {
      "cell_type": "code",
      "source": [
        "# calculate confidence of inetrval = 99%\n",
        "population = stats.norm.rvs(size=100000, loc = 40, scale = 8)\n",
        "population_mean = population.mean()\n",
        "population_std = population.std()\n",
        "\n",
        "\n",
        "# calculate confidence interval for 100% confidence level with Z-distribution -> 100% - ((100% - 90%) / 2)\n",
        "sample_size = 30\n",
        "sample = np.random.choice(population, size = sample_size)\n",
        "sample_mean = sample.mean()\n",
        "sample_std = sample.std()\n",
        "\n",
        "z_crtical = stats.norm.ppf(0.995)\n",
        "margin_of_error = z_crtical * (population_std / math.sqrt(sample_size))\n",
        "confidence_interval = (sample_mean - margin_of_error, sample_mean + margin_of_error)\n",
        "print(f\"99%-Confidence interval Z (basing on one sample): {confidence_interval}\")\n",
        "print(f'Min: {population.min()}')\n",
        "print(f'Max: {population.max()}')"
      ],
      "metadata": {
        "colab": {
          "base_uri": "https://localhost:8080/"
        },
        "id": "Thr7_wWLz8H6",
        "outputId": "d1163473-fc8a-49c0-c631-c4d81e1f8335"
      },
      "execution_count": 36,
      "outputs": [
        {
          "output_type": "stream",
          "name": "stdout",
          "text": [
            "99%-Confidence interval Z (basing on one sample): (np.float64(38.42208884339675), np.float64(45.95949081774502))\n",
            "Min: 6.182900746722638\n",
            "Max: 77.46173818872833\n"
          ]
        }
      ]
    },
    {
      "cell_type": "code",
      "source": [
        "#the fastest automatic way\n",
        "interval = stats.norm.interval(confidence=0.995, loc = sample_mean, scale = population_std / math.sqrt(sample_size))\n",
        "interval"
      ],
      "metadata": {
        "colab": {
          "base_uri": "https://localhost:8080/"
        },
        "id": "BHEoWi6p0INN",
        "outputId": "19c01d33-252e-4941-f0cf-88d9c59e07d8"
      },
      "execution_count": 37,
      "outputs": [
        {
          "output_type": "execute_result",
          "data": {
            "text/plain": [
              "(np.float64(38.08381313020756), np.float64(46.297766530934226))"
            ]
          },
          "metadata": {},
          "execution_count": 37
        }
      ]
    },
    {
      "cell_type": "code",
      "source": [
        "sample_size = 50\n",
        "sample_means = []\n",
        "margin_of_errors = []\n",
        "\n",
        "\n",
        "z_critical = stats.norm.ppf(0.995)\n",
        "\n",
        "for _ in range(50):\n",
        "    sample = np.random.choice(population, size=sample_size)\n",
        "    sample_mean = sample.mean()\n",
        "    sample_means.append(sample_mean)\n",
        "\n",
        "    margin = z_critical * (population_std / math.sqrt(sample_size))\n",
        "    margin_of_errors.append(margin)\n",
        "\n",
        "\n",
        "plt.figure(figsize=(10, 6))\n",
        "plt.title(\"99% Confidence Intervals (Normal / Z-distribution)\")\n",
        "plt.errorbar(\n",
        "    x=np.arange(50),\n",
        "    y=sample_means,\n",
        "    yerr=margin_of_errors,\n",
        "    fmt='o',\n",
        "    capsize=4,\n",
        "    elinewidth=2\n",
        ")\n",
        "plt.axhline(y=population_mean, color='red', linestyle='--', label='Population Mean')\n",
        "plt.xlabel(\"Sample Index\")\n",
        "plt.ylabel(\"Sample Mean\")\n",
        "plt.legend()\n",
        "plt.tight_layout()\n",
        "plt.show()"
      ],
      "metadata": {
        "colab": {
          "base_uri": "https://localhost:8080/",
          "height": 607
        },
        "id": "qVOJV1vpAk3P",
        "outputId": "f662dade-24b3-4417-84b4-02299bda26f0"
      },
      "execution_count": 66,
      "outputs": [
        {
          "output_type": "display_data",
          "data": {
            "text/plain": [
              "<Figure size 1000x600 with 1 Axes>"
            ],
            "image/png": "[encoded data removed]"
          },
          "metadata": {}
        }
      ]
    },
    {
      "cell_type": "code",
      "source": [
        "# T-Student\n",
        "# calculate confidence of inetrval = 99%\n",
        "population = stats.norm.rvs(size=100000, loc = 40, scale = 8)\n",
        "population_mean = population.mean()\n",
        "#population_std = population.std() no information\n",
        "\n",
        "\n",
        "# calculate confidence interval for 100% confidence level with Z-distribution -> 100% - ((100% - 90%) / 2)\n",
        "sample_size = 30\n",
        "sample = np.random.choice(population, size = sample_size)\n",
        "sample_mean = sample.mean()\n",
        "sample_std = sample.std()\n",
        "\n",
        "z_crtical = stats.t.ppf(q = 0.995, df = sample_size - 1)\n",
        "margin_of_error = z_crtical * (sample_std / math.sqrt(sample_size))\n",
        "confidence_interval = (sample_mean - margin_of_error, sample_mean + margin_of_error)\n",
        "print(f\"99%-Confidence interval Z (basing on one sample): {confidence_interval}\")\n",
        "print(f'Min: {population.min()}')\n",
        "print(f'Max: {population.max()}')"
      ],
      "metadata": {
        "colab": {
          "base_uri": "https://localhost:8080/"
        },
        "id": "v8X3Juap5djA",
        "outputId": "e8c1a7f5-a0d4-43f3-a621-875afabf0cb2"
      },
      "execution_count": 39,
      "outputs": [
        {
          "output_type": "stream",
          "name": "stdout",
          "text": [
            "99%-Confidence interval Z (basing on one sample): (np.float64(36.59309899779326), np.float64(44.40391738126171))\n",
            "Min: -2.827651542960261\n",
            "Max: 75.10626937954527\n"
          ]
        }
      ]
    },
    {
      "cell_type": "code",
      "source": [
        "interval = stats.t.interval(df = sample_size - 1, loc = sample_mean, confidence=0.995, scale = sample_std / math.sqrt(sample_size))\n",
        "interval"
      ],
      "metadata": {
        "colab": {
          "base_uri": "https://localhost:8080/"
        },
        "id": "lSu7O8358mbv",
        "outputId": "c012c46c-5591-49d0-9f4c-de1df47e6b78"
      },
      "execution_count": 40,
      "outputs": [
        {
          "output_type": "execute_result",
          "data": {
            "text/plain": [
              "(np.float64(36.19402540050791), np.float64(44.80299097854707))"
            ]
          },
          "metadata": {},
          "execution_count": 40
        }
      ]
    },
    {
      "cell_type": "markdown",
      "source": [
        "## **Use the t-distribution when you don’t know the population standard deviation, especially if the sample size is small (< 30)**"
      ],
      "metadata": {
        "id": "T1RXqaLLAQZ_"
      }
    },
    {
      "cell_type": "code",
      "source": [
        "#what's gonna happen when i do not have normal distribution?\n",
        "sample_size = 50\n",
        "\n",
        "intervals = []\n",
        "sample_means = []\n",
        "\n",
        "for sample in range(50):\n",
        "  sample = np.random.choice(population, size = sample_size)\n",
        "  sample_mean = sample.mean()\n",
        "  sample_std = sample.std()\n",
        "  sample_means.append(sample_mean)\n",
        "\n",
        "  t_critical = stats.t.ppf(q = 0.995, df = sample_size - 1)\n",
        "  margin_of_error = t_critical * (sample_std /math.sqrt(sample_size))\n",
        "  confidence_interval = (sample_mean - margin_of_error, sample_mean + margin_of_error)\n",
        "  intervals.append(confidence_interval)\n",
        "\n",
        "plt.figure()\n",
        "plt.title('Is the population indeed in the confidence interval? - T - student')\n",
        "plt.errorbar(\n",
        "      x = np.arange(0, 50, 1),\n",
        "      y = sample_means,\n",
        "      fmt = 'o',\n",
        "      yerr = [(e-b) for b,e in intervals]\n",
        "  )\n",
        "\n",
        "plt.hlines(y = population_mean, xmin = 0, xmax = 50, color = 'red', linewidth = 1)"
      ],
      "metadata": {
        "colab": {
          "base_uri": "https://localhost:8080/",
          "height": 470
        },
        "id": "XzcrMnAb9E5K",
        "outputId": "c8974675-08a6-4762-fcf3-9fb7853ff023"
      },
      "execution_count": 63,
      "outputs": [
        {
          "output_type": "execute_result",
          "data": {
            "text/plain": [
              "<matplotlib.collections.LineCollection at 0x780740ed7850>"
            ]
          },
          "metadata": {},
          "execution_count": 63
        },
        {
          "output_type": "display_data",
          "data": {
            "text/plain": [
              "<Figure size 640x480 with 1 Axes>"
            ],
            "image/png": "[encoded data removed]"
          },
          "metadata": {}
        }
      ]
    }
  ]
}
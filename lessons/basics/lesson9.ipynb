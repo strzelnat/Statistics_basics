{
  "nbformat": 4,
  "nbformat_minor": 0,
  "metadata": {
    "colab": {
      "provenance": [],
      "authorship_tag": "ABX9TyP290EXbVd2EpxJUYmJr/sE",
      "include_colab_link": true
    },
    "kernelspec": {
      "name": "python3",
      "display_name": "Python 3"
    },
    "language_info": {
      "name": "python"
    }
  },
  "cells": [
    {
      "cell_type": "markdown",
      "metadata": {
        "id": "view-in-github",
        "colab_type": "text"
      },
      "source": [
        "<a href=\"https://colab.research.google.com/github/strzelnat/Statistics_basics/blob/main/lessons/basics/lesson9.ipynb\" target=\"_parent\"><img src=\"https://colab.research.google.com/assets/colab-badge.svg\" alt=\"Open In Colab\"/></a>"
      ]
    },
    {
      "cell_type": "code",
      "execution_count": 1,
      "metadata": {
        "colab": {
          "base_uri": "https://localhost:8080/"
        },
        "id": "hDzRWzKPW0ZP",
        "outputId": "68096181-a7ce-4d86-9a72-681b289f0009"
      },
      "outputs": [
        {
          "output_type": "stream",
          "name": "stdout",
          "text": [
            "Requirement already satisfied: scipy in /usr/local/lib/python3.11/dist-packages (1.15.3)\n",
            "Requirement already satisfied: numpy<2.5,>=1.23.5 in /usr/local/lib/python3.11/dist-packages (from scipy) (2.0.2)\n"
          ]
        }
      ],
      "source": [
        "!pip install scipy"
      ]
    },
    {
      "cell_type": "code",
      "source": [
        "import pandas as pd\n",
        "import numpy as np\n",
        "import matplotlib.pyplot as plt\n",
        "from scipy import stats\n",
        "import math\n",
        "from scipy.stats import skewnorm"
      ],
      "metadata": {
        "id": "GNMNfo8pYyRN"
      },
      "execution_count": 14,
      "outputs": []
    },
    {
      "cell_type": "markdown",
      "source": [
        "# **Confidence interval for a population propotion**"
      ],
      "metadata": {
        "id": "jGYzzV9moNQW"
      }
    },
    {
      "cell_type": "code",
      "source": [
        "p = 30 / 200\n",
        "n = 200\n",
        "\n",
        "z_critical = stats.norm.ppf(0.975)\n",
        "margin_of_error = z_critical * math.sqrt((p*(1-p))/n)\n",
        "\n",
        "intervals = (p - margin_of_error, p + margin_of_error)\n",
        "print(f'We are 90% confident that the ratio of population falls into this interval: {intervals[0]:.5f} and {intervals[1]:.5f}')"
      ],
      "metadata": {
        "colab": {
          "base_uri": "https://localhost:8080/"
        },
        "id": "7qwqJh40bxnK",
        "outputId": "4a714654-eadb-4352-918a-959d1efb56c5"
      },
      "execution_count": 31,
      "outputs": [
        {
          "output_type": "stream",
          "name": "stdout",
          "text": [
            "We are 90% confident that the ratio of population falls into this interval: 0.10051 and 0.19949\n"
          ]
        }
      ]
    },
    {
      "cell_type": "code",
      "source": [
        "#using fuction\n",
        "p = 30 / 200\n",
        "n = 200\n",
        "\n",
        "confidence_interval = stats.norm.interval(confidence = 0.95, loc = p, scale = math.sqrt((p*(1-p))/n))\n",
        "print(f'We are 90% confident that the ratio of population falls into this interval: {confidence_interval[0]:.5f} and {confidence_interval[1]:.5f}')"
      ],
      "metadata": {
        "colab": {
          "base_uri": "https://localhost:8080/"
        },
        "id": "suDy0zK1he3M",
        "outputId": "84078210-f92d-4e7a-97e8-d9855297ccef"
      },
      "execution_count": 32,
      "outputs": [
        {
          "output_type": "stream",
          "name": "stdout",
          "text": [
            "We are 90% confident that the ratio of population falls into this interval: 0.10051 and 0.19949\n"
          ]
        }
      ]
    },
    {
      "cell_type": "markdown",
      "source": [
        "# **Confidence interval for a paired samples**"
      ],
      "metadata": {
        "id": "22i0TMMwohAN"
      }
    },
    {
      "cell_type": "markdown",
      "source": [
        "$$\n",
        "\\bar{d} \\pm t_{n-1, \\alpha/2} \\cdot \\frac{S_d}{\\sqrt{n}}\n",
        "$$\n"
      ],
      "metadata": {
        "id": "Hgj7UNbWFcTT"
      }
    },
    {
      "cell_type": "code",
      "source": [
        "size = 30\n",
        "results_before = stats.norm.rvs(size=size, loc=14, scale=1)\n",
        "change = stats.norm.rvs(size=size, loc=0.2, scale=0.5)\n",
        "results_after = [x + y for x, y in zip(results_before, change)]\n",
        "\n",
        "df = pd.DataFrame(list(zip(results_before, results_after)), columns=['before', 'after'])\n",
        "df['diff'] = df['before'] - df['after']\n",
        "\n",
        "print(f\"Before: {df['before'].mean():.3f},  {df['before'].std():.3f}\")\n",
        "print(f\"After: {df['after'].mean():.3f}, {df['after'].std():.3f}\")\n",
        "\n",
        "\n",
        "alpha = 0.1\n",
        "alpha2 = alpha / 2\n",
        "sample_size = len(df)\n",
        "sample_mean = df['diff'].mean()\n",
        "sample_std = df['diff'].std()\n",
        "confidence_level = 1 - alpha\n",
        "\n",
        "t_critical = stats.t.ppf(1 - alpha2, df=sample_size - 1)\n",
        "print(f'T-critical = {t_critical:.3f}')\n",
        "\n",
        "margin_of_error =  t_critical * sample_std / math.sqrt(sample_size)\n",
        "confidence_interval = (sample_mean - margin_of_error, sample_mean + margin_of_error)\n",
        "\n",
        "print(f'We are {confidence_level * 100:.1f}% sure that the effect in population will be in interval {confidence_interval[0]:.5f} and {confidence_interval[1]:.5f}')\n"
      ],
      "metadata": {
        "colab": {
          "base_uri": "https://localhost:8080/"
        },
        "id": "EzdFtu4ooodF",
        "outputId": "dafacb7b-7632-42c2-9dad-bc460487a3c5"
      },
      "execution_count": 53,
      "outputs": [
        {
          "output_type": "stream",
          "name": "stdout",
          "text": [
            "Before: 13.762, 1.000\n",
            "After: 13.850, 1.067\n",
            "T-critical = 1.699\n",
            "We are 90.0% sure that the effect in population will be in interval -0.26671 and 0.09054\n"
          ]
        }
      ]
    },
    {
      "cell_type": "code",
      "source": [
        "#using function\n",
        "confidence_interval = stats.t.interval(confidence = confidence_level, loc = sample_mean, df = sample_size - 1, scale = sample_std / math.sqrt(sample_size))\n",
        "confidence_interval\n",
        "print(f'We are {confidence_level * 100:.1f}% sure that the effect in population will be in interval {confidence_interval[0]:.5f} and {confidence_interval[1]:.5f}')"
      ],
      "metadata": {
        "colab": {
          "base_uri": "https://localhost:8080/"
        },
        "id": "439N2H9DuUD8",
        "outputId": "18fc94f4-2fb2-4326-98e5-abc25965bd23"
      },
      "execution_count": 58,
      "outputs": [
        {
          "output_type": "stream",
          "name": "stdout",
          "text": [
            "We are 90.0% sure that the effect in population will be in interval -0.26671 and 0.09054\n"
          ]
        }
      ]
    },
    {
      "cell_type": "markdown",
      "source": [
        "# **Confidence interval for two independent samples**"
      ],
      "metadata": {
        "id": "IkQzPMYTxmYU"
      }
    },
    {
      "cell_type": "markdown",
      "source": [
        "\\begin{aligned}\n",
        "s_p^2 &= \\frac{(n_1 - 1)s_1^2 + (n_2 - 1)s_2^2}{n_1 + n_2 - 2} \\\\\n",
        "SE &= \\sqrt{ s_p^2 \\left( \\frac{1}{n_1} + \\frac{1}{n_2} \\right) } \\\\\n",
        "CI &= (\\bar{X}_1 - \\bar{X}_2) \\pm t_{\\alpha/2} \\cdot SE\n",
        "\\end{aligned}\n"
      ],
      "metadata": {
        "id": "N9ja97W_8Vgg"
      }
    },
    {
      "cell_type": "code",
      "source": [
        "#two independent values and variance is known for populations (sometimes: well known) -> variances have to be similar!\n",
        "\n",
        "doctors = stats.norm.rvs(size = 70, loc = 55, scale = 10)\n",
        "therapists = stats.norm.rvs(size = 40, loc = 75, scale = 10)\n",
        "\n",
        "mean_doc = doctors.mean()\n",
        "std_doc = doctors.std()\n",
        "ther_mean = therapists.mean()\n",
        "ther_std = therapists.std()\n",
        "count_doc = len(doctors)\n",
        "count_ther = len(therapists)\n",
        "\n",
        "print(min(doctors), max(doctors))\n",
        "print(min(therapists), max(therapists))\n",
        "\n",
        "alpha = 0.05\n",
        "alpha2 = alpha / 2\n",
        "confidence_level = 1 - alpha\n",
        "z_critical = stats.norm.ppf(q = 1 - alpha2)\n",
        "\n",
        "margin_of_error = z_critical * math.sqrt((std_doc**2 / count_doc) + (ther_std ** 2 / count_ther))\n",
        "confidence_interval = ((ther_mean - mean_doc) - margin_of_error, (ther_mean - mean_doc) + margin_of_error)\n",
        "\n",
        "print(f'We are {confidence_level * 100}% sure that the difference between results of therapists and doctors falls into inerval {confidence_interval[0]:.2f} and {confidence_interval[1]:.2f}')"
      ],
      "metadata": {
        "colab": {
          "base_uri": "https://localhost:8080/"
        },
        "id": "gFSeSFtNxq30",
        "outputId": "66d96b16-03e8-42b6-e56e-323b55acba2d"
      },
      "execution_count": 67,
      "outputs": [
        {
          "output_type": "stream",
          "name": "stdout",
          "text": [
            "28.578781697369898 77.85751676938938\n",
            "54.781528879336655 89.34427608494711\n",
            "We are 90.0% sure that the difference between results of therapists and doctors falls into inerval 11.81 and 18.05\n"
          ]
        }
      ]
    },
    {
      "cell_type": "code",
      "source": [
        "#two independent values and variance is unknown for populations (sometimes: well known) -> variances have to be similar!\n",
        "\n",
        "\n",
        "mean_doc = doctors.mean()\n",
        "std_doc = doctors.std()\n",
        "ther_mean = therapists.mean()\n",
        "ther_std = therapists.std()\n",
        "count_doc = len(doctors)\n",
        "count_ther = len(therapists)\n",
        "\n",
        "alpha = 0.5\n",
        "alpha2 = alpha / 2\n",
        "confidence_level = 1 - alpha\n",
        "t_critical = stats.t.ppf(q = 1 - alpha2, df = count_doc + count_ther - 2)\n",
        "var_p = (((count_doc - 1) *  std_doc ** 2 )  +  ((count_ther - 1) *  ther_std ** 2 ) ) / (count_doc + count_ther - 2)\n",
        "margin_of_error = t_critical * math.sqrt((var_p/ count_doc) + (var_p / count_ther))\n",
        "confidence_interval = (((mean_doc - ther_mean) - margin_of_error), ((mean_doc - ther_mean) + margin_of_error))\n",
        "print(f'We are {confidence_level * 100}% sure that the difference between results of therapists and doctors falls into inerval {confidence_interval[0]:.2f} and {confidence_interval[1]:.2f}')"
      ],
      "metadata": {
        "colab": {
          "base_uri": "https://localhost:8080/"
        },
        "id": "PhKN5iaT8boP",
        "outputId": "a6d3056f-d5a4-41b5-de40-8a35af7c85f2"
      },
      "execution_count": 70,
      "outputs": [
        {
          "output_type": "stream",
          "name": "stdout",
          "text": [
            "We are 50.0% sure that the difference between results of therapists and doctors falls into inerval -16.29 and -13.57\n"
          ]
        }
      ]
    }
  ]
}
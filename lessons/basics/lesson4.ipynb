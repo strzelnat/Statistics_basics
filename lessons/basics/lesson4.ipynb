{
  "nbformat": 4,
  "nbformat_minor": 0,
  "metadata": {
    "colab": {
      "provenance": [],
      "authorship_tag": "ABX9TyMgfQKWX72g2kjXpAG8gXA+",
      "include_colab_link": true
    },
    "kernelspec": {
      "name": "python3",
      "display_name": "Python 3"
    },
    "language_info": {
      "name": "python"
    }
  },
  "cells": [
    {
      "cell_type": "markdown",
      "metadata": {
        "id": "view-in-github",
        "colab_type": "text"
      },
      "source": [
        "<a href=\"https://colab.research.google.com/github/strzelnat/Statistics_basics/blob/main/lessons/basics/lesson4.ipynb\" target=\"_parent\"><img src=\"https://colab.research.google.com/assets/colab-badge.svg\" alt=\"Open In Colab\"/></a>"
      ]
    },
    {
      "cell_type": "code",
      "execution_count": 31,
      "metadata": {
        "id": "-jSju68zN-lW"
      },
      "outputs": [],
      "source": [
        "import pandas as pd\n",
        "import numpy as np\n",
        "import statistics as stat\n",
        "import random as r\n",
        "import matplotlib.pyplot as plt"
      ]
    },
    {
      "cell_type": "code",
      "source": [
        "my_list = [1, 4, 8, 12, 22, 33, 12, 9, 1, 8]\n",
        "my_list2 = [1, 4, 8, 12, 22, 33, 12, 9, 9, 0]\n",
        "\n",
        "print(f'List n.1 mean: {stat.mean(my_list)}, list n.2 mean: {stat.mean(my_list2)}')\n",
        "print(f'List n.1 mode: {stat.mode(my_list)}, list n.2 mode: {stat.mode(my_list2)}')\n",
        "print(f'List n.1 median: {stat.median(my_list)}, list n.2 median: {stat.median(my_list2)}') #Lists are the same?"
      ],
      "metadata": {
        "colab": {
          "base_uri": "https://localhost:8080/"
        },
        "id": "26SARY74N_67",
        "outputId": "418ed5fd-292c-415d-c530-145f89602143"
      },
      "execution_count": 10,
      "outputs": [
        {
          "output_type": "stream",
          "name": "stdout",
          "text": [
            "List n.1 mean: 11, list n.2 mean: 11\n",
            "List n.1 mode: 1, list n.2 mode: 12\n",
            "List n.1 median: 8.5, list n.2 median: 9.0\n"
          ]
        }
      ]
    },
    {
      "cell_type": "code",
      "source": [
        "m = stat.mean(my_list)"
      ],
      "metadata": {
        "id": "if5V0UUMQG6z"
      },
      "execution_count": 11,
      "outputs": []
    },
    {
      "cell_type": "code",
      "source": [
        "#Manual calculation\n",
        "\n",
        "variance = sum((x - m) ** 2 for x in my_list) / len(my_list)\n",
        "print(f'Variance of list: {variance}')"
      ],
      "metadata": {
        "colab": {
          "base_uri": "https://localhost:8080/"
        },
        "id": "kb_cji2DPHmv",
        "outputId": "04312619-1435-4478-fbfc-739bdcb06e5c"
      },
      "execution_count": 15,
      "outputs": [
        {
          "output_type": "stream",
          "name": "stdout",
          "text": [
            "Variance of list: 87.8\n"
          ]
        }
      ]
    },
    {
      "cell_type": "code",
      "source": [
        "#Using function\n",
        "\n",
        "variance2 = stat.pvariance(my_list2)\n",
        "print(f'Variance of list: {variance2}')"
      ],
      "metadata": {
        "colab": {
          "base_uri": "https://localhost:8080/"
        },
        "id": "eWL9_B5iQKeh",
        "outputId": "ce4380be-08d6-44d6-f85e-b3b2513f608f"
      },
      "execution_count": 16,
      "outputs": [
        {
          "output_type": "stream",
          "name": "stdout",
          "text": [
            "Variance of list: 89.4\n"
          ]
        }
      ]
    },
    {
      "cell_type": "code",
      "source": [
        "if(variance!=variance2):\n",
        "  print('There is a differance in variances between these two lists.')\n",
        "else:\n",
        "  print('There is no differance in variances between these two lists.')"
      ],
      "metadata": {
        "colab": {
          "base_uri": "https://localhost:8080/"
        },
        "id": "EttB2TzAQgsS",
        "outputId": "d8791706-f1d6-448b-f536-8dada1a6af8d"
      },
      "execution_count": 17,
      "outputs": [
        {
          "output_type": "stream",
          "name": "stdout",
          "text": [
            "There is a differance in variances between these two lists.\n"
          ]
        }
      ]
    },
    {
      "cell_type": "code",
      "source": [
        "#pvariances for popluation /N\n",
        "#variances for probe /(n-1)\n",
        "\n",
        "variance =  stat.variance(my_list)\n",
        "pvariance =  stat.pvariance(my_list)\n",
        "\n",
        "print(f'Variance for my_list = {variance}')\n",
        "print(f'Pvariance for my_list = {pvariance}')"
      ],
      "metadata": {
        "colab": {
          "base_uri": "https://localhost:8080/"
        },
        "id": "mafJ3JdwQ1Ub",
        "outputId": "3e0841f5-3843-44d3-d7a6-fa413e388937"
      },
      "execution_count": 18,
      "outputs": [
        {
          "output_type": "stream",
          "name": "stdout",
          "text": [
            "Variance for my_list = 97.55555555555556\n",
            "Pvariance for my_list = 87.8\n"
          ]
        }
      ]
    },
    {
      "cell_type": "code",
      "source": [
        "#generate random numbers for a list\n",
        "rand_list = [r.randint(1, 250) for x in range(200)]\n",
        "variance_list = stat.pvariance(rand_list)\n",
        "rand_list = pd.DataFrame(rand_list)\n",
        "\n",
        "variance = []\n",
        "pvariance = []\n",
        "\n",
        "for i in range(1, 101):\n",
        "  probe = rand_list.sample(frac = i/100).squeeze()\n",
        "  variance.append(stat.variance(probe))\n",
        "  pvariance.append(stat.pvariance(probe))"
      ],
      "metadata": {
        "id": "3TozyMj1ROnw"
      },
      "execution_count": 33,
      "outputs": []
    },
    {
      "cell_type": "code",
      "source": [
        "plt.plot(variance, color = 'red')\n",
        "plt.plot(pvariance, color = 'blue')\n",
        "plt.hlines(xmin = 0, xmax = 100, y = variance_list, linestyles='solid', color = 'yellow')"
      ],
      "metadata": {
        "colab": {
          "base_uri": "https://localhost:8080/",
          "height": 450
        },
        "id": "Vqe-RyGeXov8",
        "outputId": "84a43de6-de8a-41c6-ad96-f3abc0cdfd7a"
      },
      "execution_count": 35,
      "outputs": [
        {
          "output_type": "execute_result",
          "data": {
            "text/plain": [
              "<matplotlib.collections.LineCollection at 0x786725c2ffd0>"
            ]
          },
          "metadata": {},
          "execution_count": 35
        },
        {
          "output_type": "display_data",
          "data": {
            "text/plain": [
              "<Figure size 640x480 with 1 Axes>"
            ],
            "image/png": "[encoded data removed]"
          },
          "metadata": {}
        }
      ]
    },
    {
      "cell_type": "code",
      "source": [
        "from math import sqrt\n",
        "my_list = [r.randint(0,101) for i in range(200)]\n",
        "my_list3 = [x * 2 for x in my_list]\n",
        "my_list2 = [x * 2 + 2 for x in my_list]\n",
        "my_list4 = [sqrt(x) for x in my_list]\n",
        "\n",
        "print('Population variance - random numbers', stat.pvariance(my_list))\n",
        "print('Population variance - plus 2 ', stat.pvariance(my_list2))\n",
        "print('Population variance - multi 2 ', stat.pvariance(my_list3))\n",
        "print('Population variance - root square', stat.pvariance(my_list4))\n",
        "\n",
        "\n",
        "print('Coefficient of varation - random numbers', stat.pvariance(my_list)/stat.mean(my_list))\n",
        "print('Coefficient of varation - plus 2 ', stat.pvariance(my_list2)/stat.mean(my_list2))\n",
        "print('Coefficient of varation - multi 2 ', stat.pvariance(my_list3)/stat.mean(my_list3))\n",
        "print('Coefficient of varation - root square', stat.pvariance(my_list4)/stat.mean(my_list4))"
      ],
      "metadata": {
        "colab": {
          "base_uri": "https://localhost:8080/"
        },
        "id": "Eeua9q1aX6Br",
        "outputId": "e13ce65f-94bf-4ae3-d74b-1707a34780bf"
      },
      "execution_count": 41,
      "outputs": [
        {
          "output_type": "stream",
          "name": "stdout",
          "text": [
            "Population variance - random numbers 875.2136\n",
            "Population variance - plus 2  3500.8544\n",
            "Population variance - multi 2  3500.8544\n",
            "Population variance - root square 5.551266192956387\n",
            "Coefficient of varation - random numbers 17.476309904153357\n",
            "Coefficient of varation - plus 2  34.2683476898982\n",
            "Coefficient of varation - multi 2  34.952619808306714\n",
            "Coefficient of varation - root square 0.8319014476260688\n"
          ]
        }
      ]
    },
    {
      "cell_type": "code",
      "source": [
        "df = pd.DataFrame(columns=[\"List\", \"Variance\", \"Stdev\",\"Coefficient of variation\"])\n",
        "df.loc[len(df)] = ['my_list', stat.variance(my_list), stat.stdev(my_list), stat.variance(my_list)/stat.mean(my_list)]\n",
        "df.loc[len(df)] = ['my_list2', stat.variance(my_list2), stat.stdev(my_list2), stat.variance(my_list2)/stat.mean(my_list2)]\n",
        "df.loc[len(df)] = ['my_list3', stat.variance(my_list3), stat.stdev(my_list3), stat.variance(my_list3)/stat.mean(my_list3)]\n",
        "df.loc[len(df)] = ['my_list4', stat.variance(my_list4), stat.stdev(my_list4), stat.variance(my_list4)/stat.mean(my_list4)]\n",
        "\n",
        "df"
      ],
      "metadata": {
        "colab": {
          "base_uri": "https://localhost:8080/",
          "height": 174
        },
        "id": "Ip33VYTqZNCn",
        "outputId": "c538fab3-749b-4cf8-8998-d92b3e3e5c61"
      },
      "execution_count": 61,
      "outputs": [
        {
          "output_type": "execute_result",
          "data": {
            "text/plain": [
              "       List     Variance      Stdev  Coefficient of variation\n",
              "0   my_list   879.611658  29.658248                 17.564131\n",
              "1  my_list2  3518.446633  59.316495                 34.440550\n",
              "2  my_list3  3518.446633  59.316495                 35.128261\n",
              "3  my_list4     5.579162   2.362025                  0.836082"
            ],
            "text/html": [
              "\n",
              "  <div id=\"df-1fabacb2-0890-4ecc-91cf-72c89d6fe169\" class=\"colab-df-container\">\n",
              "    <div>\n",
              "<style scoped>\n",
              "    .dataframe tbody tr th:only-of-type {\n",
              "        vertical-align: middle;\n",
              "    }\n",
              "\n",
              "    .dataframe tbody tr th {\n",
              "        vertical-align: top;\n",
              "    }\n",
              "\n",
              "    .dataframe thead th {\n",
              "        text-align: right;\n",
              "    }\n",
              "</style>\n",
              "<table border=\"1\" class=\"dataframe\">\n",
              "  <thead>\n",
              "    <tr style=\"text-align: right;\">\n",
              "      <th></th>\n",
              "      <th>List</th>\n",
              "      <th>Variance</th>\n",
              "      <th>Stdev</th>\n",
              "      <th>Coefficient of variation</th>\n",
              "    </tr>\n",
              "  </thead>\n",
              "  <tbody>\n",
              "    <tr>\n",
              "      <th>0</th>\n",
              "      <td>my_list</td>\n",
              "      <td>879.611658</td>\n",
              "      <td>29.658248</td>\n",
              "      <td>17.564131</td>\n",
              "    </tr>\n",
              "    <tr>\n",
              "      <th>1</th>\n",
              "      <td>my_list2</td>\n",
              "      <td>3518.446633</td>\n",
              "      <td>59.316495</td>\n",
              "      <td>34.440550</td>\n",
              "    </tr>\n",
              "    <tr>\n",
              "      <th>2</th>\n",
              "      <td>my_list3</td>\n",
              "      <td>3518.446633</td>\n",
              "      <td>59.316495</td>\n",
              "      <td>35.128261</td>\n",
              "    </tr>\n",
              "    <tr>\n",
              "      <th>3</th>\n",
              "      <td>my_list4</td>\n",
              "      <td>5.579162</td>\n",
              "      <td>2.362025</td>\n",
              "      <td>0.836082</td>\n",
              "    </tr>\n",
              "  </tbody>\n",
              "</table>\n",
              "</div>\n",
              "    <div class=\"colab-df-buttons\">\n",
              "\n",
              "  <div class=\"colab-df-container\">\n",
              "    <button class=\"colab-df-convert\" onclick=\"convertToInteractive('df-1fabacb2-0890-4ecc-91cf-72c89d6fe169')\"\n",
              "            title=\"Convert this dataframe to an interactive table.\"\n",
              "            style=\"display:none;\">\n",
              "\n",
              "  <svg xmlns=\"http://www.w3.org/2000/svg\" height=\"24px\" viewBox=\"0 -960 960 960\">\n",
              "    <path d=\"M120-120v-720h720v720H120Zm60-500h600v-160H180v160Zm220 220h160v-160H400v160Zm0 220h160v-160H400v160ZM180-400h160v-160H180v160Zm440 0h160v-160H620v160ZM180-180h160v-160H180v160Zm440 0h160v-160H620v160Z\"/>\n",
              "  </svg>\n",
              "    </button>\n",
              "\n",
              "  <style>\n",
              "    .colab-df-container {\n",
              "      display:flex;\n",
              "      gap: 12px;\n",
              "    }\n",
              "\n",
              "    .colab-df-convert {\n",
              "      background-color: #E8F0FE;\n",
              "      border: none;\n",
              "      border-radius: 50%;\n",
              "      cursor: pointer;\n",
              "      display: none;\n",
              "      fill: #1967D2;\n",
              "      height: 32px;\n",
              "      padding: 0 0 0 0;\n",
              "      width: 32px;\n",
              "    }\n",
              "\n",
              "    .colab-df-convert:hover {\n",
              "      background-color: #E2EBFA;\n",
              "      box-shadow: 0px 1px 2px rgba(60, 64, 67, 0.3), 0px 1px 3px 1px rgba(60, 64, 67, 0.15);\n",
              "      fill: #174EA6;\n",
              "    }\n",
              "\n",
              "    .colab-df-buttons div {\n",
              "      margin-bottom: 4px;\n",
              "    }\n",
              "\n",
              "    [theme=dark] .colab-df-convert {\n",
              "      background-color: #3B4455;\n",
              "      fill: #D2E3FC;\n",
              "    }\n",
              "\n",
              "    [theme=dark] .colab-df-convert:hover {\n",
              "      background-color: #434B5C;\n",
              "      box-shadow: 0px 1px 3px 1px rgba(0, 0, 0, 0.15);\n",
              "      filter: drop-shadow(0px 1px 2px rgba(0, 0, 0, 0.3));\n",
              "      fill: #FFFFFF;\n",
              "    }\n",
              "  </style>\n",
              "\n",
              "    <script>\n",
              "      const buttonEl =\n",
              "        document.querySelector('#df-1fabacb2-0890-4ecc-91cf-72c89d6fe169 button.colab-df-convert');\n",
              "      buttonEl.style.display =\n",
              "        google.colab.kernel.accessAllowed ? 'block' : 'none';\n",
              "\n",
              "      async function convertToInteractive(key) {\n",
              "        const element = document.querySelector('#df-1fabacb2-0890-4ecc-91cf-72c89d6fe169');\n",
              "        const dataTable =\n",
              "          await google.colab.kernel.invokeFunction('convertToInteractive',\n",
              "                                                    [key], {});\n",
              "        if (!dataTable) return;\n",
              "\n",
              "        const docLinkHtml = 'Like what you see? Visit the ' +\n",
              "          '<a target=\"_blank\" href=https://colab.research.google.com/notebooks/data_table.ipynb>data table notebook</a>'\n",
              "          + ' to learn more about interactive tables.';\n",
              "        element.innerHTML = '';\n",
              "        dataTable['output_type'] = 'display_data';\n",
              "        await google.colab.output.renderOutput(dataTable, element);\n",
              "        const docLink = document.createElement('div');\n",
              "        docLink.innerHTML = docLinkHtml;\n",
              "        element.appendChild(docLink);\n",
              "      }\n",
              "    </script>\n",
              "  </div>\n",
              "\n",
              "\n",
              "    <div id=\"df-0f041b92-b7dc-413b-8673-4e29f0d647b2\">\n",
              "      <button class=\"colab-df-quickchart\" onclick=\"quickchart('df-0f041b92-b7dc-413b-8673-4e29f0d647b2')\"\n",
              "                title=\"Suggest charts\"\n",
              "                style=\"display:none;\">\n",
              "\n",
              "<svg xmlns=\"http://www.w3.org/2000/svg\" height=\"24px\"viewBox=\"0 0 24 24\"\n",
              "     width=\"24px\">\n",
              "    <g>\n",
              "        <path d=\"M19 3H5c-1.1 0-2 .9-2 2v14c0 1.1.9 2 2 2h14c1.1 0 2-.9 2-2V5c0-1.1-.9-2-2-2zM9 17H7v-7h2v7zm4 0h-2V7h2v10zm4 0h-2v-4h2v4z\"/>\n",
              "    </g>\n",
              "</svg>\n",
              "      </button>\n",
              "\n",
              "<style>\n",
              "  .colab-df-quickchart {\n",
              "      --bg-color: #E8F0FE;\n",
              "      --fill-color: #1967D2;\n",
              "      --hover-bg-color: #E2EBFA;\n",
              "      --hover-fill-color: #174EA6;\n",
              "      --disabled-fill-color: #AAA;\n",
              "      --disabled-bg-color: #DDD;\n",
              "  }\n",
              "\n",
              "  [theme=dark] .colab-df-quickchart {\n",
              "      --bg-color: #3B4455;\n",
              "      --fill-color: #D2E3FC;\n",
              "      --hover-bg-color: #434B5C;\n",
              "      --hover-fill-color: #FFFFFF;\n",
              "      --disabled-bg-color: #3B4455;\n",
              "      --disabled-fill-color: #666;\n",
              "  }\n",
              "\n",
              "  .colab-df-quickchart {\n",
              "    background-color: var(--bg-color);\n",
              "    border: none;\n",
              "    border-radius: 50%;\n",
              "    cursor: pointer;\n",
              "    display: none;\n",
              "    fill: var(--fill-color);\n",
              "    height: 32px;\n",
              "    padding: 0;\n",
              "    width: 32px;\n",
              "  }\n",
              "\n",
              "  .colab-df-quickchart:hover {\n",
              "    background-color: var(--hover-bg-color);\n",
              "    box-shadow: 0 1px 2px rgba(60, 64, 67, 0.3), 0 1px 3px 1px rgba(60, 64, 67, 0.15);\n",
              "    fill: var(--button-hover-fill-color);\n",
              "  }\n",
              "\n",
              "  .colab-df-quickchart-complete:disabled,\n",
              "  .colab-df-quickchart-complete:disabled:hover {\n",
              "    background-color: var(--disabled-bg-color);\n",
              "    fill: var(--disabled-fill-color);\n",
              "    box-shadow: none;\n",
              "  }\n",
              "\n",
              "  .colab-df-spinner {\n",
              "    border: 2px solid var(--fill-color);\n",
              "    border-color: transparent;\n",
              "    border-bottom-color: var(--fill-color);\n",
              "    animation:\n",
              "      spin 1s steps(1) infinite;\n",
              "  }\n",
              "\n",
              "  @keyframes spin {\n",
              "    0% {\n",
              "      border-color: transparent;\n",
              "      border-bottom-color: var(--fill-color);\n",
              "      border-left-color: var(--fill-color);\n",
              "    }\n",
              "    20% {\n",
              "      border-color: transparent;\n",
              "      border-left-color: var(--fill-color);\n",
              "      border-top-color: var(--fill-color);\n",
              "    }\n",
              "    30% {\n",
              "      border-color: transparent;\n",
              "      border-left-color: var(--fill-color);\n",
              "      border-top-color: var(--fill-color);\n",
              "      border-right-color: var(--fill-color);\n",
              "    }\n",
              "    40% {\n",
              "      border-color: transparent;\n",
              "      border-right-color: var(--fill-color);\n",
              "      border-top-color: var(--fill-color);\n",
              "    }\n",
              "    60% {\n",
              "      border-color: transparent;\n",
              "      border-right-color: var(--fill-color);\n",
              "    }\n",
              "    80% {\n",
              "      border-color: transparent;\n",
              "      border-right-color: var(--fill-color);\n",
              "      border-bottom-color: var(--fill-color);\n",
              "    }\n",
              "    90% {\n",
              "      border-color: transparent;\n",
              "      border-bottom-color: var(--fill-color);\n",
              "    }\n",
              "  }\n",
              "</style>\n",
              "\n",
              "      <script>\n",
              "        async function quickchart(key) {\n",
              "          const quickchartButtonEl =\n",
              "            document.querySelector('#' + key + ' button');\n",
              "          quickchartButtonEl.disabled = true;  // To prevent multiple clicks.\n",
              "          quickchartButtonEl.classList.add('colab-df-spinner');\n",
              "          try {\n",
              "            const charts = await google.colab.kernel.invokeFunction(\n",
              "                'suggestCharts', [key], {});\n",
              "          } catch (error) {\n",
              "            console.error('Error during call to suggestCharts:', error);\n",
              "          }\n",
              "          quickchartButtonEl.classList.remove('colab-df-spinner');\n",
              "          quickchartButtonEl.classList.add('colab-df-quickchart-complete');\n",
              "        }\n",
              "        (() => {\n",
              "          let quickchartButtonEl =\n",
              "            document.querySelector('#df-0f041b92-b7dc-413b-8673-4e29f0d647b2 button');\n",
              "          quickchartButtonEl.style.display =\n",
              "            google.colab.kernel.accessAllowed ? 'block' : 'none';\n",
              "        })();\n",
              "      </script>\n",
              "    </div>\n",
              "\n",
              "  <div id=\"id_2d85825d-0bb1-40f6-b973-0efb7e174cf2\">\n",
              "    <style>\n",
              "      .colab-df-generate {\n",
              "        background-color: #E8F0FE;\n",
              "        border: none;\n",
              "        border-radius: 50%;\n",
              "        cursor: pointer;\n",
              "        display: none;\n",
              "        fill: #1967D2;\n",
              "        height: 32px;\n",
              "        padding: 0 0 0 0;\n",
              "        width: 32px;\n",
              "      }\n",
              "\n",
              "      .colab-df-generate:hover {\n",
              "        background-color: #E2EBFA;\n",
              "        box-shadow: 0px 1px 2px rgba(60, 64, 67, 0.3), 0px 1px 3px 1px rgba(60, 64, 67, 0.15);\n",
              "        fill: #174EA6;\n",
              "      }\n",
              "\n",
              "      [theme=dark] .colab-df-generate {\n",
              "        background-color: #3B4455;\n",
              "        fill: #D2E3FC;\n",
              "      }\n",
              "\n",
              "      [theme=dark] .colab-df-generate:hover {\n",
              "        background-color: #434B5C;\n",
              "        box-shadow: 0px 1px 3px 1px rgba(0, 0, 0, 0.15);\n",
              "        filter: drop-shadow(0px 1px 2px rgba(0, 0, 0, 0.3));\n",
              "        fill: #FFFFFF;\n",
              "      }\n",
              "    </style>\n",
              "    <button class=\"colab-df-generate\" onclick=\"generateWithVariable('df')\"\n",
              "            title=\"Generate code using this dataframe.\"\n",
              "            style=\"display:none;\">\n",
              "\n",
              "  <svg xmlns=\"http://www.w3.org/2000/svg\" height=\"24px\"viewBox=\"0 0 24 24\"\n",
              "       width=\"24px\">\n",
              "    <path d=\"M7,19H8.4L18.45,9,17,7.55,7,17.6ZM5,21V16.75L18.45,3.32a2,2,0,0,1,2.83,0l1.4,1.43a1.91,1.91,0,0,1,.58,1.4,1.91,1.91,0,0,1-.58,1.4L9.25,21ZM18.45,9,17,7.55Zm-12,3A5.31,5.31,0,0,0,4.9,8.1,5.31,5.31,0,0,0,1,6.5,5.31,5.31,0,0,0,4.9,4.9,5.31,5.31,0,0,0,6.5,1,5.31,5.31,0,0,0,8.1,4.9,5.31,5.31,0,0,0,12,6.5,5.46,5.46,0,0,0,6.5,12Z\"/>\n",
              "  </svg>\n",
              "    </button>\n",
              "    <script>\n",
              "      (() => {\n",
              "      const buttonEl =\n",
              "        document.querySelector('#id_2d85825d-0bb1-40f6-b973-0efb7e174cf2 button.colab-df-generate');\n",
              "      buttonEl.style.display =\n",
              "        google.colab.kernel.accessAllowed ? 'block' : 'none';\n",
              "\n",
              "      buttonEl.onclick = () => {\n",
              "        google.colab.notebook.generateWithVariable('df');\n",
              "      }\n",
              "      })();\n",
              "    </script>\n",
              "  </div>\n",
              "\n",
              "    </div>\n",
              "  </div>\n"
            ],
            "application/vnd.google.colaboratory.intrinsic+json": {
              "type": "dataframe",
              "variable_name": "df",
              "summary": "{\n  \"name\": \"df\",\n  \"rows\": 4,\n  \"fields\": [\n    {\n      \"column\": \"List\",\n      \"properties\": {\n        \"dtype\": \"string\",\n        \"num_unique_values\": 4,\n        \"samples\": [\n          \"my_list2\",\n          \"my_list4\",\n          \"my_list\"\n        ],\n        \"semantic_type\": \"\",\n        \"description\": \"\"\n      }\n    },\n    {\n      \"column\": \"Variance\",\n      \"properties\": {\n        \"dtype\": \"number\",\n        \"std\": 1811.3371808721176,\n        \"min\": 5.579162002971244,\n        \"max\": 3518.446633165829,\n        \"num_unique_values\": 3,\n        \"samples\": [\n          879.6116582914573,\n          3518.446633165829,\n          5.579162002971244\n        ],\n        \"semantic_type\": \"\",\n        \"description\": \"\"\n      }\n    },\n    {\n      \"column\": \"Stdev\",\n      \"properties\": {\n        \"dtype\": \"number\",\n        \"std\": 27.373847780089406,\n        \"min\": 2.362024979328382,\n        \"max\": 59.31649545586648,\n        \"num_unique_values\": 3,\n        \"samples\": [\n          29.65824772793324,\n          59.31649545586648,\n          2.362024979328382\n        ],\n        \"semantic_type\": \"\",\n        \"description\": \"\"\n      }\n    },\n    {\n      \"column\": \"Coefficient of variation\",\n      \"properties\": {\n        \"dtype\": \"number\",\n        \"std\": 16.275817073001594,\n        \"min\": 0.836081856910622,\n        \"max\": 35.12826111387609,\n        \"num_unique_values\": 4,\n        \"samples\": [\n          34.440550442108744,\n          0.836081856910622,\n          17.564130556938046\n        ],\n        \"semantic_type\": \"\",\n        \"description\": \"\"\n      }\n    }\n  ]\n}"
            }
          },
          "metadata": {},
          "execution_count": 61
        }
      ]
    },
    {
      "cell_type": "code",
      "source": [
        "# Wykresy\n",
        "plt.figure(figsize=(12, 8))\n",
        "\n",
        "# Variance\n",
        "plt.subplot(3, 1, 1)\n",
        "plt.bar(df['List'], df['Variance'], color='skyblue')\n",
        "plt.title('Variance')\n",
        "plt.ylabel('Value')\n",
        "\n",
        "# Stdev\n",
        "plt.subplot(3, 1, 2)\n",
        "plt.bar(df['List'], df['Stdev'], color='lightgreen')\n",
        "plt.title('Standard Deviation')\n",
        "plt.ylabel('Value')\n",
        "\n",
        "# Coefficient of Variation\n",
        "plt.subplot(3, 1, 3)\n",
        "plt.bar(df['List'], df['Coefficient of variation'], color='salmon')\n",
        "plt.title('Coefficient of Variation')\n",
        "plt.ylabel('Value')\n",
        "\n",
        "plt.tight_layout()\n",
        "plt.show()"
      ],
      "metadata": {
        "colab": {
          "base_uri": "https://localhost:8080/",
          "height": 785
        },
        "id": "WRpulfJUrvwq",
        "outputId": "76625fb0-7335-4921-a6df-b4e99e2ad911"
      },
      "execution_count": 59,
      "outputs": [
        {
          "output_type": "display_data",
          "data": {
            "text/plain": [
              "<Figure size 1200x800 with 3 Axes>"
            ],
            "image/png": "[encoded data removed]"
          },
          "metadata": {}
        }
      ]
    },
    {
      "cell_type": "code",
      "source": [
        "bin_w = 0.4\n",
        "index = range(len(df))\n",
        "index"
      ],
      "metadata": {
        "colab": {
          "base_uri": "https://localhost:8080/"
        },
        "id": "mQbow5HctY6v",
        "outputId": "0d42dad7-c94e-4203-88db-abf091eafa81"
      },
      "execution_count": 68,
      "outputs": [
        {
          "output_type": "execute_result",
          "data": {
            "text/plain": [
              "range(0, 4)"
            ]
          },
          "metadata": {},
          "execution_count": 68
        }
      ]
    },
    {
      "cell_type": "code",
      "source": [
        "fig,ax = plt.subplots()\n",
        "ax.bar([i - bin_w/2 for i in index], df['Variance'], width = bin_w, label = 'Variance')\n",
        "ax.bar([i for i in index], df['Stdev'], width = bin_w, label = 'Stdev')\n",
        "ax.bar([i + bin_w/2 for i in index], df['Coefficient of variation'], width = bin_w, label = 'Coefficient of variation')\n",
        "plt.legend()\n",
        "plt.title('Variance vs Stdev vs Coefficient of variation')"
      ],
      "metadata": {
        "colab": {
          "base_uri": "https://localhost:8080/",
          "height": 469
        },
        "id": "Ch_AfwnbusBb",
        "outputId": "69e2c51c-4701-47dd-c4f8-bcdc738d0042"
      },
      "execution_count": 70,
      "outputs": [
        {
          "output_type": "execute_result",
          "data": {
            "text/plain": [
              "Text(0.5, 1.0, 'Variance vs Stdev vs Coefficient of variation')"
            ]
          },
          "metadata": {},
          "execution_count": 70
        },
        {
          "output_type": "display_data",
          "data": {
            "text/plain": [
              "<Figure size 640x480 with 1 Axes>"
            ],
            "image/png": "[encoded data removed]"
          },
          "metadata": {}
        }
      ]
    }
  ]
}